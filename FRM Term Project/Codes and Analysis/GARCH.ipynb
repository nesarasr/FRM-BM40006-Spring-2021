{
 "cells": [
  {
   "cell_type": "markdown",
   "metadata": {},
   "source": [
    "# GARCH(1,1)"
   ]
  },
  {
   "cell_type": "code",
   "execution_count": 1,
   "metadata": {},
   "outputs": [],
   "source": [
    "import pandas as pd \n",
    "import numpy as np \n",
    "import matplotlib.pyplot as plt \n",
    "import seaborn as sns\n",
    "sns.set()\n",
    "from arch import arch_model\n",
    "import warnings\n",
    "warnings.filterwarnings('ignore')\n",
    "import sys\n",
    "from scipy import stats"
   ]
  },
  {
   "cell_type": "code",
   "execution_count": 2,
   "metadata": {},
   "outputs": [],
   "source": [
    "snp =pd.read_excel('S&P_BSE.xlsx') \n",
    "nif = pd.read_excel('NIFTY.xlsx') \n",
    "\n",
    "current_asset_value_snp = 1\n",
    "units_snp = 1/snp['Close'].iloc[-1]\n",
    "current_asset_value_nif = 1\n",
    "units_nif = 1/nif['Close'].iloc[-1]"
   ]
  },
  {
   "cell_type": "code",
   "execution_count": 3,
   "metadata": {},
   "outputs": [
    {
     "name": "stdout",
     "output_type": "stream",
     "text": [
      "Current value of S&P BSE 500 as on 2021-04-09 00:00:00 is 1\n",
      "Current value of NIFTY as on 2021-04-09 00:00:00 is 1\n"
     ]
    }
   ],
   "source": [
    "print(\"Current value of S&P BSE 500 as on\",snp['Date'].iloc[-1],\"is\",current_asset_value_snp)\n",
    "print(\"Current value of NIFTY as on\",nif['Date'].iloc[-1],\"is\",current_asset_value_nif)\n"
   ]
  },
  {
   "cell_type": "code",
   "execution_count": 4,
   "metadata": {},
   "outputs": [],
   "source": [
    "snp = (snp.set_index('Date'))\n",
    "nif = (nif.set_index('Date'))\n",
    "snp = snp['Close']\n",
    "nif = nif['Close']"
   ]
  },
  {
   "cell_type": "code",
   "execution_count": 5,
   "metadata": {},
   "outputs": [],
   "source": [
    "returns_snp = ((np.log(snp) - np.log(snp.shift(1))).dropna()).mul(100) # multiply by 100 to express in %\n",
    "returns_nif = ((np.log(nif) - np.log(nif.shift(1))).dropna()).mul(100) # multiply by 100 to express in %"
   ]
  },
  {
   "cell_type": "markdown",
   "metadata": {},
   "source": [
    "#### Fit on complete dataaset"
   ]
  },
  {
   "cell_type": "code",
   "execution_count": 6,
   "metadata": {},
   "outputs": [
    {
     "name": "stdout",
     "output_type": "stream",
     "text": [
      "Standard Deviation of S&P BSE 500 using GARCH(1,1) fitted on the complete dataset :  0.0107\n",
      "Standard Deviation of NIFTY using GARCH(1,1) fitted on the complete dataset :  0.0116\n"
     ]
    }
   ],
   "source": [
    "'''\n",
    "S&P BSE 500\n",
    "'''\n",
    "model = arch_model(returns_snp, p = 1, q = 1, vol = 'GARCH', dist = 't')\n",
    "# fit model\n",
    "model_fit = model.fit(disp='off')\n",
    "# forecast the test set\n",
    "yhat = model_fit.forecast(horizon=1)\n",
    "fulldataset_snp = round(np.sqrt(yhat.variance.values[-1][0])/100,4)\n",
    "print(\"Standard Deviation of S&P BSE 500 using GARCH(1,1) fitted on the complete dataset : \",fulldataset_snp)\n",
    "\n",
    "'''\n",
    "NIFTY\n",
    "'''\n",
    "model = arch_model(returns_nif, p = 1, q = 1, vol = 'GARCH', dist = 't')\n",
    "# fit model\n",
    "model_fit = model.fit(disp='off')\n",
    "# forecast the test set\n",
    "yhat = model_fit.forecast(horizon=1)\n",
    "fulldataset_nif = round(np.sqrt(yhat.variance.values[-1][0])/100,4)\n",
    "print(\"Standard Deviation of NIFTY using GARCH(1,1) fitted on the complete dataset : \",fulldataset_nif)\n",
    "\n"
   ]
  },
  {
   "cell_type": "markdown",
   "metadata": {},
   "source": [
    "#### Fit using rolling window of length ~ 5 years"
   ]
  },
  {
   "cell_type": "code",
   "execution_count": 7,
   "metadata": {},
   "outputs": [
    {
     "name": "stdout",
     "output_type": "stream",
     "text": [
      "S&P Done!\n",
      "NIFTY Done!\n"
     ]
    }
   ],
   "source": [
    "'''\n",
    "S&P BSE 500\n",
    "'''\n",
    "model = arch_model(returns_snp, p = 1, q = 1, vol = 'GARCH', dist = 't')\n",
    "index = returns_snp.index\n",
    "start_loc = 0\n",
    "end_loc = np.where(index> '2014-03-03')[0].min()\n",
    "forecasts = {}\n",
    "for i in range(len(index[end_loc-1:])):\n",
    "    sys.stdout.flush()\n",
    "    res = model.fit(first_obs=i, last_obs=i + end_loc, disp=\"off\")\n",
    "    temp = res.forecast(horizon=1, reindex=False).variance\n",
    "    fcast = temp.iloc[0]\n",
    "    forecasts[fcast.name] = fcast\n",
    "print('S&P Done!')\n",
    "rolling_window_snp = np.sqrt(pd.DataFrame(forecasts).T)\n",
    "rolling_window_stdev_snp = rolling_window_snp['h.1'][-1]\n",
    "\n",
    "'''\n",
    "NIFTY\n",
    "'''\n",
    "model = arch_model(returns_nif, p = 1, q = 1, vol = 'GARCH', dist = 't')\n",
    "index = returns_nif.index\n",
    "start_loc = 0\n",
    "end_loc = np.where(index> '2014-03-03')[0].min()\n",
    "forecasts = {}\n",
    "for i in range(len(index[end_loc-1:])):\n",
    "    sys.stdout.flush()\n",
    "    res = model.fit(first_obs=i, last_obs=i + end_loc, disp=\"off\")\n",
    "    temp = res.forecast(horizon=1, reindex=False).variance\n",
    "    fcast = temp.iloc[0]\n",
    "    forecasts[fcast.name] = fcast\n",
    "print('NIFTY Done!')\n",
    "rolling_window_nif = np.sqrt(pd.DataFrame(forecasts).T)\n",
    "rolling_window_stdev_nif = rolling_window_nif['h.1'][-1]"
   ]
  },
  {
   "cell_type": "code",
   "execution_count": 9,
   "metadata": {},
   "outputs": [
    {
     "name": "stdout",
     "output_type": "stream",
     "text": [
      "Standard Deviation of S&P BSE 500 using GARCH(1,1) with rolling window :  0.0099\n",
      "Standard Deviation of NIFTY using GARCH(1,1) with rolling window :  0.0108\n"
     ]
    }
   ],
   "source": [
    "rolling_window_stdev_snp/=100\n",
    "rolling_window_stdev_nif/=100\n",
    "rolling_window_stdev_snp = round(rolling_window_stdev_snp,4)\n",
    "rolling_window_stdev_nif = round(rolling_window_stdev_nif,4)\n",
    "print(\"Standard Deviation of S&P BSE 500 using GARCH(1,1) with rolling window : \",rolling_window_stdev_snp)\n",
    "print(\"Standard Deviation of NIFTY using GARCH(1,1) with rolling window : \",rolling_window_stdev_nif)"
   ]
  },
  {
   "cell_type": "markdown",
   "metadata": {},
   "source": [
    "#### 99% VaR using forecasted standard deviations"
   ]
  },
  {
   "cell_type": "code",
   "execution_count": 69,
   "metadata": {},
   "outputs": [
    {
     "name": "stdout",
     "output_type": "stream",
     "text": [
      "VaR of S&P BSE 500 using Expanding Window GARCH(1,1) :  0.024891922252236996\n",
      "VaR of S&P BSE 500 using Rolling Window GARCH(1,1) :  0.023030843953004327\n",
      "VaR of NIFTY using Expanding Window GARCH(1,1) :  0.02698563533887375\n",
      "VaR of NIFTY using Rolling Window GARCH(1,1) :  0.02512455703964108\n"
     ]
    }
   ],
   "source": [
    "z = stats.norm.ppf(0.99)\n",
    "\n",
    "'''\n",
    "S&P\n",
    "'''\n",
    "fulldataset_var_snp = (z*fulldataset_snp)\n",
    "rolling_window_var_snp = (z*rolling_window_stdev_snp)\n",
    "print(\"VaR of S&P BSE 500 using Expanding Window GARCH(1,1) : \",current_asset_value_snp*fulldataset_var_snp)\n",
    "print(\"VaR of S&P BSE 500 using Rolling Window GARCH(1,1) : \",current_asset_value_snp*rolling_window_var_snp)\n",
    "\n",
    "'''\n",
    "NIFTY\n",
    "'''\n",
    "fulldataset_var_nif = (z*fulldataset_nif)\n",
    "rolling_window_var_nif = (z*rolling_window_stdev_nif)\n",
    "print(\"VaR of NIFTY using Expanding Window GARCH(1,1) : \",current_asset_value_nif*fulldataset_var_nif)\n",
    "print(\"VaR of NIFTY using Rolling Window GARCH(1,1) : \",current_asset_value_nif*rolling_window_var_nif)\n",
    "\n"
   ]
  },
  {
   "cell_type": "code",
   "execution_count": 70,
   "metadata": {},
   "outputs": [],
   "source": [
    "df = pd.DataFrame(columns=['VaR Terminology','S&P BSE 500','NIFTY'])\n",
    "df = df.append({'VaR Terminology':'VaR with Expanding Window GARCH','S&P BSE 500':current_asset_value_snp*fulldataset_var_snp,'NIFTY':current_asset_value_nif*fulldataset_var_nif}, ignore_index=True)\n",
    "df = df.append({'VaR Terminology':'VaR with Rolling Window GARCH (window ~ 5 years) ','S&P BSE 500':current_asset_value_snp*rolling_window_var_snp,'NIFTY':current_asset_value_nif*rolling_window_var_nif}, ignore_index=True)"
   ]
  },
  {
   "cell_type": "code",
   "execution_count": 71,
   "metadata": {},
   "outputs": [],
   "source": [
    "df['Relative (Nifty/ S&P)'] = df['NIFTY']/df['S&P BSE 500']\n",
    "df['Remarks'] = 0\n",
    "for i in range(df.shape[0]): \n",
    "    if df['Relative (Nifty/ S&P)'][i]>=1:\n",
    "        df['Remarks'][i] = \"NIFTY is riskier\"\n",
    "    else:\n",
    "        df['Remarks'][i] = \"S&P is riskier\""
   ]
  },
  {
   "cell_type": "code",
   "execution_count": 74,
   "metadata": {},
   "outputs": [],
   "source": [
    "df.to_csv (r'/Users/nesarasr/Documents/Sem6/FRM/Termproject/Results_GARCH.csv',index = False,  header=True)"
   ]
  },
  {
   "cell_type": "code",
   "execution_count": 75,
   "metadata": {},
   "outputs": [
    {
     "data": {
      "text/html": [
       "<div>\n",
       "<style scoped>\n",
       "    .dataframe tbody tr th:only-of-type {\n",
       "        vertical-align: middle;\n",
       "    }\n",
       "\n",
       "    .dataframe tbody tr th {\n",
       "        vertical-align: top;\n",
       "    }\n",
       "\n",
       "    .dataframe thead th {\n",
       "        text-align: right;\n",
       "    }\n",
       "</style>\n",
       "<table border=\"1\" class=\"dataframe\">\n",
       "  <thead>\n",
       "    <tr style=\"text-align: right;\">\n",
       "      <th></th>\n",
       "      <th>VaR Terminology</th>\n",
       "      <th>S&amp;P BSE 500</th>\n",
       "      <th>NIFTY</th>\n",
       "      <th>Relative (Nifty/ S&amp;P)</th>\n",
       "      <th>Remarks</th>\n",
       "    </tr>\n",
       "  </thead>\n",
       "  <tbody>\n",
       "    <tr>\n",
       "      <th>0</th>\n",
       "      <td>VaR with Expanding Window GARCH</td>\n",
       "      <td>0.024892</td>\n",
       "      <td>0.026986</td>\n",
       "      <td>1.084112</td>\n",
       "      <td>NIFTY is riskier</td>\n",
       "    </tr>\n",
       "    <tr>\n",
       "      <th>1</th>\n",
       "      <td>VaR with Rolling Window GARCH (window ~ 5 years)</td>\n",
       "      <td>0.023031</td>\n",
       "      <td>0.025125</td>\n",
       "      <td>1.090909</td>\n",
       "      <td>NIFTY is riskier</td>\n",
       "    </tr>\n",
       "  </tbody>\n",
       "</table>\n",
       "</div>"
      ],
      "text/plain": [
       "                                     VaR Terminology  S&P BSE 500     NIFTY  \\\n",
       "0                    VaR with Expanding Window GARCH     0.024892  0.026986   \n",
       "1  VaR with Rolling Window GARCH (window ~ 5 years)      0.023031  0.025125   \n",
       "\n",
       "   Relative (Nifty/ S&P)           Remarks  \n",
       "0               1.084112  NIFTY is riskier  \n",
       "1               1.090909  NIFTY is riskier  "
      ]
     },
     "execution_count": 75,
     "metadata": {},
     "output_type": "execute_result"
    }
   ],
   "source": [
    "df"
   ]
  }
 ],
 "metadata": {
  "kernelspec": {
   "display_name": "Python 3",
   "language": "python",
   "name": "python3"
  },
  "language_info": {
   "codemirror_mode": {
    "name": "ipython",
    "version": 3
   },
   "file_extension": ".py",
   "mimetype": "text/x-python",
   "name": "python",
   "nbconvert_exporter": "python",
   "pygments_lexer": "ipython3",
   "version": "3.7.6"
  }
 },
 "nbformat": 4,
 "nbformat_minor": 4
}
