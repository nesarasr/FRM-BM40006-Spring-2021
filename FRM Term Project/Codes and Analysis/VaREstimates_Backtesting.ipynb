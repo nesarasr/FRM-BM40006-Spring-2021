{
 "cells": [
  {
   "cell_type": "markdown",
   "metadata": {},
   "source": [
    "# VaR Estimation and Backtesting"
   ]
  },
  {
   "cell_type": "code",
   "execution_count": 1,
   "metadata": {},
   "outputs": [],
   "source": [
    "import pandas as pd\n",
    "import numpy as np\n",
    "import scipy.stats as st\n",
    "from IPython.display import display\n",
    "import matplotlib.pyplot as plt\n",
    "import warnings\n",
    "warnings.filterwarnings('ignore')"
   ]
  },
  {
   "cell_type": "code",
   "execution_count": 2,
   "metadata": {},
   "outputs": [
    {
     "ename": "FileNotFoundError",
     "evalue": "[Errno 2] No such file or directory: '\\\\Data\\\\S&P_BSE.xlsx'",
     "output_type": "error",
     "traceback": [
      "\u001b[1;31m---------------------------------------------------------------------------\u001b[0m",
      "\u001b[1;31mFileNotFoundError\u001b[0m                         Traceback (most recent call last)",
      "\u001b[1;32m<ipython-input-2-e8ce5e23d7ab>\u001b[0m in \u001b[0;36m<module>\u001b[1;34m\u001b[0m\n\u001b[1;32m----> 1\u001b[1;33m \u001b[0msnp\u001b[0m \u001b[1;33m=\u001b[0m\u001b[0mpd\u001b[0m\u001b[1;33m.\u001b[0m\u001b[0mread_excel\u001b[0m\u001b[1;33m(\u001b[0m\u001b[1;34m'\\Data\\S&P_BSE.xlsx'\u001b[0m\u001b[1;33m)\u001b[0m\u001b[1;33m\u001b[0m\u001b[1;33m\u001b[0m\u001b[0m\n\u001b[0m\u001b[0;32m      2\u001b[0m \u001b[1;33m\u001b[0m\u001b[0m\n\u001b[0;32m      3\u001b[0m \u001b[0mcurrent_asset_value_snp\u001b[0m \u001b[1;33m=\u001b[0m \u001b[1;36m1\u001b[0m\u001b[1;33m\u001b[0m\u001b[1;33m\u001b[0m\u001b[0m\n\u001b[0;32m      4\u001b[0m \u001b[0munits_snp\u001b[0m \u001b[1;33m=\u001b[0m \u001b[1;36m1\u001b[0m\u001b[1;33m/\u001b[0m\u001b[0msnp\u001b[0m\u001b[1;33m[\u001b[0m\u001b[1;34m'Close'\u001b[0m\u001b[1;33m]\u001b[0m\u001b[1;33m.\u001b[0m\u001b[0miloc\u001b[0m\u001b[1;33m[\u001b[0m\u001b[1;33m-\u001b[0m\u001b[1;36m1\u001b[0m\u001b[1;33m]\u001b[0m\u001b[1;33m\u001b[0m\u001b[1;33m\u001b[0m\u001b[0m\n",
      "\u001b[1;32m~\\anaconda3\\envs\\my_env\\lib\\site-packages\\pandas\\util\\_decorators.py\u001b[0m in \u001b[0;36mwrapper\u001b[1;34m(*args, **kwargs)\u001b[0m\n\u001b[0;32m    297\u001b[0m                 )\n\u001b[0;32m    298\u001b[0m                 \u001b[0mwarnings\u001b[0m\u001b[1;33m.\u001b[0m\u001b[0mwarn\u001b[0m\u001b[1;33m(\u001b[0m\u001b[0mmsg\u001b[0m\u001b[1;33m,\u001b[0m \u001b[0mFutureWarning\u001b[0m\u001b[1;33m,\u001b[0m \u001b[0mstacklevel\u001b[0m\u001b[1;33m=\u001b[0m\u001b[0mstacklevel\u001b[0m\u001b[1;33m)\u001b[0m\u001b[1;33m\u001b[0m\u001b[1;33m\u001b[0m\u001b[0m\n\u001b[1;32m--> 299\u001b[1;33m             \u001b[1;32mreturn\u001b[0m \u001b[0mfunc\u001b[0m\u001b[1;33m(\u001b[0m\u001b[1;33m*\u001b[0m\u001b[0margs\u001b[0m\u001b[1;33m,\u001b[0m \u001b[1;33m**\u001b[0m\u001b[0mkwargs\u001b[0m\u001b[1;33m)\u001b[0m\u001b[1;33m\u001b[0m\u001b[1;33m\u001b[0m\u001b[0m\n\u001b[0m\u001b[0;32m    300\u001b[0m \u001b[1;33m\u001b[0m\u001b[0m\n\u001b[0;32m    301\u001b[0m         \u001b[1;32mreturn\u001b[0m \u001b[0mwrapper\u001b[0m\u001b[1;33m\u001b[0m\u001b[1;33m\u001b[0m\u001b[0m\n",
      "\u001b[1;32m~\\anaconda3\\envs\\my_env\\lib\\site-packages\\pandas\\io\\excel\\_base.py\u001b[0m in \u001b[0;36mread_excel\u001b[1;34m(io, sheet_name, header, names, index_col, usecols, squeeze, dtype, engine, converters, true_values, false_values, skiprows, nrows, na_values, keep_default_na, na_filter, verbose, parse_dates, date_parser, thousands, comment, skipfooter, convert_float, mangle_dupe_cols, storage_options)\u001b[0m\n\u001b[0;32m    334\u001b[0m     \u001b[1;32mif\u001b[0m \u001b[1;32mnot\u001b[0m \u001b[0misinstance\u001b[0m\u001b[1;33m(\u001b[0m\u001b[0mio\u001b[0m\u001b[1;33m,\u001b[0m \u001b[0mExcelFile\u001b[0m\u001b[1;33m)\u001b[0m\u001b[1;33m:\u001b[0m\u001b[1;33m\u001b[0m\u001b[1;33m\u001b[0m\u001b[0m\n\u001b[0;32m    335\u001b[0m         \u001b[0mshould_close\u001b[0m \u001b[1;33m=\u001b[0m \u001b[1;32mTrue\u001b[0m\u001b[1;33m\u001b[0m\u001b[1;33m\u001b[0m\u001b[0m\n\u001b[1;32m--> 336\u001b[1;33m         \u001b[0mio\u001b[0m \u001b[1;33m=\u001b[0m \u001b[0mExcelFile\u001b[0m\u001b[1;33m(\u001b[0m\u001b[0mio\u001b[0m\u001b[1;33m,\u001b[0m \u001b[0mstorage_options\u001b[0m\u001b[1;33m=\u001b[0m\u001b[0mstorage_options\u001b[0m\u001b[1;33m,\u001b[0m \u001b[0mengine\u001b[0m\u001b[1;33m=\u001b[0m\u001b[0mengine\u001b[0m\u001b[1;33m)\u001b[0m\u001b[1;33m\u001b[0m\u001b[1;33m\u001b[0m\u001b[0m\n\u001b[0m\u001b[0;32m    337\u001b[0m     \u001b[1;32melif\u001b[0m \u001b[0mengine\u001b[0m \u001b[1;32mand\u001b[0m \u001b[0mengine\u001b[0m \u001b[1;33m!=\u001b[0m \u001b[0mio\u001b[0m\u001b[1;33m.\u001b[0m\u001b[0mengine\u001b[0m\u001b[1;33m:\u001b[0m\u001b[1;33m\u001b[0m\u001b[1;33m\u001b[0m\u001b[0m\n\u001b[0;32m    338\u001b[0m         raise ValueError(\n",
      "\u001b[1;32m~\\anaconda3\\envs\\my_env\\lib\\site-packages\\pandas\\io\\excel\\_base.py\u001b[0m in \u001b[0;36m__init__\u001b[1;34m(self, path_or_buffer, engine, storage_options)\u001b[0m\n\u001b[0;32m   1069\u001b[0m                 \u001b[0mext\u001b[0m \u001b[1;33m=\u001b[0m \u001b[1;34m\"xls\"\u001b[0m\u001b[1;33m\u001b[0m\u001b[1;33m\u001b[0m\u001b[0m\n\u001b[0;32m   1070\u001b[0m             \u001b[1;32melse\u001b[0m\u001b[1;33m:\u001b[0m\u001b[1;33m\u001b[0m\u001b[1;33m\u001b[0m\u001b[0m\n\u001b[1;32m-> 1071\u001b[1;33m                 ext = inspect_excel_format(\n\u001b[0m\u001b[0;32m   1072\u001b[0m                     \u001b[0mcontent\u001b[0m\u001b[1;33m=\u001b[0m\u001b[0mpath_or_buffer\u001b[0m\u001b[1;33m,\u001b[0m \u001b[0mstorage_options\u001b[0m\u001b[1;33m=\u001b[0m\u001b[0mstorage_options\u001b[0m\u001b[1;33m\u001b[0m\u001b[1;33m\u001b[0m\u001b[0m\n\u001b[0;32m   1073\u001b[0m                 )\n",
      "\u001b[1;32m~\\anaconda3\\envs\\my_env\\lib\\site-packages\\pandas\\io\\excel\\_base.py\u001b[0m in \u001b[0;36minspect_excel_format\u001b[1;34m(path, content, storage_options)\u001b[0m\n\u001b[0;32m    947\u001b[0m     \u001b[1;32massert\u001b[0m \u001b[0mcontent_or_path\u001b[0m \u001b[1;32mis\u001b[0m \u001b[1;32mnot\u001b[0m \u001b[1;32mNone\u001b[0m\u001b[1;33m\u001b[0m\u001b[1;33m\u001b[0m\u001b[0m\n\u001b[0;32m    948\u001b[0m \u001b[1;33m\u001b[0m\u001b[0m\n\u001b[1;32m--> 949\u001b[1;33m     with get_handle(\n\u001b[0m\u001b[0;32m    950\u001b[0m         \u001b[0mcontent_or_path\u001b[0m\u001b[1;33m,\u001b[0m \u001b[1;34m\"rb\"\u001b[0m\u001b[1;33m,\u001b[0m \u001b[0mstorage_options\u001b[0m\u001b[1;33m=\u001b[0m\u001b[0mstorage_options\u001b[0m\u001b[1;33m,\u001b[0m \u001b[0mis_text\u001b[0m\u001b[1;33m=\u001b[0m\u001b[1;32mFalse\u001b[0m\u001b[1;33m\u001b[0m\u001b[1;33m\u001b[0m\u001b[0m\n\u001b[0;32m    951\u001b[0m     ) as handle:\n",
      "\u001b[1;32m~\\anaconda3\\envs\\my_env\\lib\\site-packages\\pandas\\io\\common.py\u001b[0m in \u001b[0;36mget_handle\u001b[1;34m(path_or_buf, mode, encoding, compression, memory_map, is_text, errors, storage_options)\u001b[0m\n\u001b[0;32m    649\u001b[0m         \u001b[1;32melse\u001b[0m\u001b[1;33m:\u001b[0m\u001b[1;33m\u001b[0m\u001b[1;33m\u001b[0m\u001b[0m\n\u001b[0;32m    650\u001b[0m             \u001b[1;31m# Binary mode\u001b[0m\u001b[1;33m\u001b[0m\u001b[1;33m\u001b[0m\u001b[1;33m\u001b[0m\u001b[0m\n\u001b[1;32m--> 651\u001b[1;33m             \u001b[0mhandle\u001b[0m \u001b[1;33m=\u001b[0m \u001b[0mopen\u001b[0m\u001b[1;33m(\u001b[0m\u001b[0mhandle\u001b[0m\u001b[1;33m,\u001b[0m \u001b[0mioargs\u001b[0m\u001b[1;33m.\u001b[0m\u001b[0mmode\u001b[0m\u001b[1;33m)\u001b[0m\u001b[1;33m\u001b[0m\u001b[1;33m\u001b[0m\u001b[0m\n\u001b[0m\u001b[0;32m    652\u001b[0m         \u001b[0mhandles\u001b[0m\u001b[1;33m.\u001b[0m\u001b[0mappend\u001b[0m\u001b[1;33m(\u001b[0m\u001b[0mhandle\u001b[0m\u001b[1;33m)\u001b[0m\u001b[1;33m\u001b[0m\u001b[1;33m\u001b[0m\u001b[0m\n\u001b[0;32m    653\u001b[0m \u001b[1;33m\u001b[0m\u001b[0m\n",
      "\u001b[1;31mFileNotFoundError\u001b[0m: [Errno 2] No such file or directory: '\\\\Data\\\\S&P_BSE.xlsx'"
     ]
    }
   ],
   "source": [
    "snp =pd.read_excel('\\Data\\S&P_BSE.xlsx') \n",
    "\n",
    "current_asset_value_snp = 1\n",
    "units_snp = 1/snp['Close'].iloc[-1]"
   ]
  },
  {
   "cell_type": "code",
   "execution_count": 217,
   "metadata": {},
   "outputs": [],
   "source": [
    "nif = pd.read_excel('\\Data\\NIFTY.xlsx') \n",
    "\n",
    "\n",
    "current_asset_value_nif = 1\n",
    "units_nif = 1/nif['Close'].iloc[-1]"
   ]
  },
  {
   "cell_type": "code",
   "execution_count": 218,
   "metadata": {},
   "outputs": [
    {
     "name": "stdout",
     "output_type": "stream",
     "text": [
      "Current value of S&P BSE 500 as on 2021-04-09 00:00:00 is 1\n",
      "Current value of NIFTY as on 2021-04-09 00:00:00 is 1\n"
     ]
    }
   ],
   "source": [
    "print(\"Current value of S&P BSE 500 as on\",snp['Date'].iloc[-1],\"is\",current_asset_value_snp)\n",
    "print(\"Current value of NIFTY as on\",nif['Date'].iloc[-1],\"is\",current_asset_value_nif)\n"
   ]
  },
  {
   "cell_type": "code",
   "execution_count": 219,
   "metadata": {},
   "outputs": [],
   "source": [
    "snp = (snp.set_index('Date'))\n",
    "nif = (nif.set_index('Date'))"
   ]
  },
  {
   "cell_type": "code",
   "execution_count": 220,
   "metadata": {},
   "outputs": [],
   "source": [
    "snp = snp['Close']\n",
    "nif = nif['Close']"
   ]
  },
  {
   "cell_type": "code",
   "execution_count": 221,
   "metadata": {},
   "outputs": [],
   "source": [
    "df = pd.DataFrame(columns=['VaR Terminology','S&P BSE 500','NIFTY'])"
   ]
  },
  {
   "cell_type": "code",
   "execution_count": 222,
   "metadata": {},
   "outputs": [
    {
     "name": "stdout",
     "output_type": "stream",
     "text": [
      "VaR for S&P returns is -2.996 %.\n",
      "VaR for Nifty returns is -2.977 %.\n"
     ]
    }
   ],
   "source": [
    "returns_snp = np.log(snp) - np.log(snp.shift(1))\n",
    "returns_nif = np.log(nif) - np.log(nif.shift(1))\n",
    "\n",
    "returns_snp = returns_snp.sort_values(ascending = True)\n",
    "returns_nif = returns_nif.sort_values(ascending = True)\n",
    "\n",
    "confidence_interval = 0.99\n",
    "VaR_snp = returns_snp[int(len(returns_snp) * (1 - confidence_interval))] \n",
    "VaR_nif = returns_nif[int(len(returns_nif) * (1 - confidence_interval))] \n",
    "\n",
    "print(\"VaR for S&P returns is\", round(VaR_snp*100,3), \"%.\")\n",
    "print(\"VaR for Nifty returns is\", round(VaR_nif*100,3), \"%.\")\n"
   ]
  },
  {
   "cell_type": "code",
   "execution_count": 223,
   "metadata": {},
   "outputs": [],
   "source": [
    "#df = df.append({'VaR Terminology':'% VaR','S&P BSE 500':-VaR_snp*100,'NIFTY':-VaR_nif*100}, ignore_index=True)"
   ]
  },
  {
   "cell_type": "code",
   "execution_count": 224,
   "metadata": {},
   "outputs": [
    {
     "name": "stdout",
     "output_type": "stream",
     "text": [
      "----------------------------- SnP stats -----------------------------\n",
      "Worst loss (Emperical Relative Loss) the asset value will face is Rs. 0.03\n",
      "Worst loss (Emperical Absolute Loss) the asset value will face is Rs. 0.0306\n",
      "Worst loss (Parametric Relative Loss) the asset value will face is Rs. 0.0269\n",
      "Worst loss (Parametric Absolute Loss) the asset value will face is Rs. 0.026\n",
      "----------------------------- Nifty stats -----------------------------\n",
      "Worst loss (Emperical Relative Loss) the asset value will face is Rs. 0.0298\n",
      "Worst loss (Emperical Absolute Loss) the asset value will face is Rs. 0.0303\n",
      "Worst loss (Parametric Relative Loss) the asset value will face is Rs. 0.028\n",
      "Worst loss (Parametric Absolute Loss) the asset value will face is Rs. 0.0274\n"
     ]
    }
   ],
   "source": [
    "###### SNP #####\n",
    "print(\"----------------------------- SnP stats -----------------------------\")\n",
    "\n",
    "# Emperical VaR\n",
    "emperical_relative_VaR_snp = round(- current_asset_value_snp * VaR_snp,4)\n",
    "print(\"Worst loss (Emperical Relative Loss) the asset value will face is Rs.\", emperical_relative_VaR_snp)\n",
    "emperical_absolute_VaR_snp = round(current_asset_value_snp * (np.mean(returns_snp) - VaR_snp),4)\n",
    "print(\"Worst loss (Emperical Absolute Loss) the asset value will face is Rs.\", emperical_absolute_VaR_snp)\n",
    "\n",
    "# Parametric VaR\n",
    "# Assumption: Time Series Data follows Normal Distribution\n",
    "z = st.norm.ppf(confidence_interval)\n",
    "\n",
    "parametric_relative_VaR_snp = round(current_asset_value_snp * z * np.std(returns_snp),4)\n",
    "print(\"Worst loss (Parametric Relative Loss) the asset value will face is Rs.\", parametric_relative_VaR_snp)\n",
    "parametric_absolute_VaR_snp = round(- current_asset_value_snp * (np.mean(returns_snp) - z * np.std(returns_snp)),3)\n",
    "print(\"Worst loss (Parametric Absolute Loss) the asset value will face is Rs.\", parametric_absolute_VaR_snp)\n",
    "\n",
    "\n",
    "print(\"----------------------------- Nifty stats -----------------------------\")\n",
    "\n",
    "# Emperical VaR\n",
    "emperical_relative_VaR_nif = round(- current_asset_value_nif * VaR_nif,4) \n",
    "print(\"Worst loss (Emperical Relative Loss) the asset value will face is Rs.\", emperical_relative_VaR_nif)\n",
    "emperical_absolute_VaR_nif = round(current_asset_value_nif * (np.mean(returns_nif) - VaR_nif),4)\n",
    "print(\"Worst loss (Emperical Absolute Loss) the asset value will face is Rs.\", emperical_absolute_VaR_nif)\n",
    "\n",
    "# Parametric VaR\n",
    "# Assumption: Time Series Data follows Normal Distribution\n",
    "z = st.norm.ppf(confidence_interval)\n",
    "\n",
    "parametric_relative_VaR_nif = round(current_asset_value_nif * z * np.std(returns_nif),4)\n",
    "print(\"Worst loss (Parametric Relative Loss) the asset value will face is Rs.\", parametric_relative_VaR_nif)\n",
    "parametric_absolute_VaR_nif = round(- current_asset_value_nif * (np.mean(returns_nif) - z * np.std(returns_nif)),4)\n",
    "print(\"Worst loss (Parametric Absolute Loss) the asset value will face is Rs.\", parametric_absolute_VaR_nif)\n",
    "\n",
    "\n",
    "df = df.append({'VaR Terminology':'Emperical Absolute VaR','S&P BSE 500':emperical_absolute_VaR_snp,'NIFTY':emperical_absolute_VaR_nif}, ignore_index=True)\n",
    "df = df.append({'VaR Terminology':'Emperical Relative VaR','S&P BSE 500':emperical_relative_VaR_snp,'NIFTY':emperical_relative_VaR_nif}, ignore_index=True)\n",
    "df = df.append({'VaR Terminology':'Parametric Absolute VaR','S&P BSE 500':parametric_absolute_VaR_snp,'NIFTY':parametric_absolute_VaR_nif}, ignore_index=True)\n",
    "df = df.append({'VaR Terminology':'Parametric Relative VaR','S&P BSE 500':parametric_relative_VaR_snp,'NIFTY':parametric_relative_VaR_nif}, ignore_index=True)"
   ]
  },
  {
   "cell_type": "code",
   "execution_count": 225,
   "metadata": {},
   "outputs": [
    {
     "name": "stdout",
     "output_type": "stream",
     "text": [
      "----------------------------- SnP stats -----------------------------\n",
      "Worst 7 day loss (Parametric Relative Loss) the asset value will face is Rs. 0.0712\n",
      "Worst 7 day loss (Parametric Absolute Loss) the asset value will face is Rs. 0.0669\n",
      "----------------------------- Nifty stats -----------------------------\n",
      "Worst 7 day loss (Parametric Relative Loss) the asset value will face is Rs. 0.074\n",
      "Worst 7 day loss (Parametric Absolute Loss) the asset value will face is Rs. 0.07\n"
     ]
    }
   ],
   "source": [
    "# T - Day Returns : T = 7\n",
    "# Considering efficient markets and log returns\n",
    "print(\"----------------------------- SnP stats -----------------------------\")\n",
    "T = 7\n",
    "std_T = np.std(returns_snp) * (T**0.5)\n",
    "mean_T = np.mean(returns_snp) * T\n",
    "\n",
    "confidence_interval = 0.99\n",
    "z = st.norm.ppf(confidence_interval)\n",
    "\n",
    "parametric_relative_T_VaR_snp = round(current_asset_value_snp * z * std_T,4)\n",
    "print(\"Worst {} day loss (Parametric Relative Loss) the asset value will face is Rs. {}\".format(T, parametric_relative_T_VaR_snp))\n",
    "parametric_absolute_T_VaR_snp = round(- current_asset_value_snp * (mean_T - z * std_T),4)\n",
    "print(\"Worst {} day loss (Parametric Absolute Loss) the asset value will face is Rs. {}\".format(T, parametric_absolute_T_VaR_snp))\n",
    "\n",
    "\n",
    "print(\"----------------------------- Nifty stats -----------------------------\")\n",
    "T = 7\n",
    "std_T = np.std(returns_nif) * (T**0.5)\n",
    "mean_T = np.mean(returns_nif) * T\n",
    "\n",
    "confidence_interval = 0.99\n",
    "z = st.norm.ppf(confidence_interval)\n",
    "\n",
    "parametric_relative_T_VaR_nif = round(current_asset_value_nif * z * std_T,4)\n",
    "print(\"Worst {} day loss (Parametric Relative Loss) the asset value will face is Rs. {}\".format(T, parametric_relative_T_VaR_nif))\n",
    "parametric_absolute_T_VaR_nif = round(- current_asset_value_nif * (mean_T - z * std_T),4)\n",
    "print(\"Worst {} day loss (Parametric Absolute Loss) the asset value will face is Rs. {}\".format(T, parametric_absolute_T_VaR_nif))\n",
    "\n",
    "\n",
    "df = df.append({'VaR Terminology':'7 day loss-absolute (Efficient markets)','S&P BSE 500':parametric_absolute_T_VaR_snp,'NIFTY':parametric_absolute_T_VaR_nif}, ignore_index=True)\n",
    "df = df.append({'VaR Terminology':'7 day loss-relative (Efficient markets)','S&P BSE 500':parametric_relative_T_VaR_snp,'NIFTY':parametric_relative_T_VaR_nif}, ignore_index=True)"
   ]
  },
  {
   "cell_type": "code",
   "execution_count": 226,
   "metadata": {},
   "outputs": [
    {
     "name": "stdout",
     "output_type": "stream",
     "text": [
      "----------------------------- SnP stats -----------------------------\n",
      "Worst 7 day loss (Parametric Relative Loss) the asset value will face is Rs. 0.0743\n",
      "Worst 7 day loss (Parametric Absolute Loss) the asset value will face is Rs. 0.07\n",
      "----------------------------- Nifty stats -----------------------------\n",
      "Worst 7 day loss (Parametric Relative Loss) the asset value will face is Rs. 0.0772\n",
      "Worst 7 day loss (Parametric Absolute Loss) the asset value will face is Rs. 0.0732\n"
     ]
    }
   ],
   "source": [
    "# T - Day Returns : T = 7\n",
    "# Considering inefficient markets and log returns\n",
    "print(\"----------------------------- SnP stats -----------------------------\")\n",
    "T = 7\n",
    "covariance_return = 0.05\n",
    "std_T = (T * (np.std(returns_snp)**2) + 2 * (np.std(returns_snp)**2) * sum([((T - i) * (covariance_return**i)) for i in range(1, T)]))**0.5 \n",
    "mean_T = np.mean(returns_snp) * T\n",
    "\n",
    "confidence_interval = 0.99\n",
    "z = st.norm.ppf(confidence_interval)\n",
    "\n",
    "parametric_relative_T_VaR_snp = round(current_asset_value_snp * z * std_T,4)\n",
    "print(\"Worst {} day loss (Parametric Relative Loss) the asset value will face is Rs. {}\".format(T, parametric_relative_T_VaR_snp))\n",
    "parametric_absolute_T_VaR_snp = round(- current_asset_value_snp * (mean_T - z * std_T),4)\n",
    "print(\"Worst {} day loss (Parametric Absolute Loss) the asset value will face is Rs. {}\".format(T, parametric_absolute_T_VaR_snp))\n",
    "\n",
    "\n",
    "print(\"----------------------------- Nifty stats -----------------------------\")\n",
    "T = 7\n",
    "covariance_return = 0.05\n",
    "std_T = (T * (np.std(returns_nif)**2) + 2 * (np.std(returns_nif)**2) * sum([((T - i) * (covariance_return**i)) for i in range(1, T)]))**0.5 \n",
    "mean_T = np.mean(returns_nif) * T\n",
    "\n",
    "confidence_interval = 0.99\n",
    "z = st.norm.ppf(confidence_interval)\n",
    "\n",
    "parametric_relative_T_VaR_nif = round(current_asset_value_nif * z * std_T,4)\n",
    "print(\"Worst {} day loss (Parametric Relative Loss) the asset value will face is Rs. {}\".format(T, parametric_relative_T_VaR_nif))\n",
    "parametric_absolute_T_VaR_nif = round(- current_asset_value_nif * (mean_T - z * std_T),4)\n",
    "print(\"Worst {} day loss (Parametric Absolute Loss) the asset value will face is Rs. {}\".format(T, parametric_absolute_T_VaR_nif))\n",
    "\n",
    "\n",
    "df = df.append({'VaR Terminology':'7 day loss-absolute (Inefficient markets)','S&P BSE 500':parametric_absolute_T_VaR_snp,'NIFTY':parametric_absolute_T_VaR_nif}, ignore_index=True)\n",
    "df = df.append({'VaR Terminology':'7 day loss-relative (Inefficient markets)','S&P BSE 500':parametric_relative_T_VaR_snp,'NIFTY':parametric_relative_T_VaR_nif}, ignore_index=True)"
   ]
  },
  {
   "cell_type": "code",
   "execution_count": 227,
   "metadata": {},
   "outputs": [
    {
     "name": "stdout",
     "output_type": "stream",
     "text": [
      "----------------------------- SnP stats -----------------------------\n",
      "cVaR : -3.08 %\n",
      "Worst loss (Relative Loss) the asset value will face is Rs. 0.0314\n",
      "Worst loss (Absolute Loss) the asset value will face is Rs. 0.0308\n",
      "----------------------------- Nifty stats -----------------------------\n",
      "cVaR : -3.2 %\n",
      "Worst loss (Relative Loss) the asset value will face is Rs. 0.0326\n",
      "Worst loss (Absolute Loss) the asset value will face is Rs. 0.032\n"
     ]
    }
   ],
   "source": [
    "# cVaR\n",
    "confidence_interval = 0.99\n",
    "Z_CI = -st.norm.ppf(1 - confidence_interval)\n",
    "Z_cVaR = np.exp((-(Z_CI**2)/2))/((1 - confidence_interval)*np.sqrt(2*3.14))\n",
    "\n",
    "print(\"----------------------------- SnP stats -----------------------------\")\n",
    "cVaR_snp = round(-Z_cVaR*np.std(returns_snp),4) \n",
    "print(\"cVaR :\", cVaR_snp*100, \"%\")\n",
    "\n",
    "# cVaR\n",
    "relative_cVaR_snp = round(current_asset_value_snp * (np.mean(returns_snp) - cVaR_snp),4)\n",
    "print(\"Worst loss (Relative Loss) the asset value will face is Rs.\", relative_cVaR_snp)\n",
    "absolute_cVaR_snp = round(- current_asset_value_snp * cVaR_snp,4)\n",
    "print(\"Worst loss (Absolute Loss) the asset value will face is Rs.\", absolute_cVaR_snp)\n",
    "\n",
    "\n",
    "print(\"----------------------------- Nifty stats -----------------------------\")\n",
    "cVaR_nif = round(-Z_cVaR*np.std(returns_nif),4)\n",
    "print(\"cVaR :\", cVaR_nif*100, \"%\")\n",
    "\n",
    "# cVaR\n",
    "relative_cVaR_nif = round(current_asset_value_nif * (np.mean(returns_nif) - cVaR_nif),4)\n",
    "print(\"Worst loss (Relative Loss) the asset value will face is Rs.\", relative_cVaR_nif)\n",
    "absolute_cVaR_nif = round(- current_asset_value_nif * cVaR_nif,4)\n",
    "print(\"Worst loss (Absolute Loss) the asset value will face is Rs.\", absolute_cVaR_nif)\n",
    "\n",
    "\n",
    "df = df.append({'VaR Terminology':'% CVaR','S&P BSE 500':-cVaR_snp*100,'NIFTY':-cVaR_nif*100}, ignore_index=True)\n",
    "df = df.append({'VaR Terminology':'Worst loss (Absolute Loss)','S&P BSE 500':absolute_cVaR_snp,'NIFTY':absolute_cVaR_nif}, ignore_index=True)\n",
    "df = df.append({'VaR Terminology':'Worst loss (Relative Loss)','S&P BSE 500':relative_cVaR_snp,'NIFTY':relative_cVaR_nif}, ignore_index=True)"
   ]
  },
  {
   "cell_type": "code",
   "execution_count": 228,
   "metadata": {},
   "outputs": [],
   "source": [
    "df['Relative (Nifty/ S&P)'] = df['NIFTY']/df['S&P BSE 500']\n",
    "df['Remarks'] = 0"
   ]
  },
  {
   "cell_type": "code",
   "execution_count": 229,
   "metadata": {},
   "outputs": [],
   "source": [
    "for i in range(df.shape[0]): \n",
    "    if df['Relative (Nifty/ S&P)'][i]>=1:\n",
    "        df['Remarks'][i] = \"NIFTY is riskier\"\n",
    "    else:\n",
    "        df['Remarks'][i] = \"S&P is riskier\""
   ]
  },
  {
   "cell_type": "code",
   "execution_count": 230,
   "metadata": {},
   "outputs": [
    {
     "data": {
      "text/html": [
       "<div>\n",
       "<style scoped>\n",
       "    .dataframe tbody tr th:only-of-type {\n",
       "        vertical-align: middle;\n",
       "    }\n",
       "\n",
       "    .dataframe tbody tr th {\n",
       "        vertical-align: top;\n",
       "    }\n",
       "\n",
       "    .dataframe thead th {\n",
       "        text-align: right;\n",
       "    }\n",
       "</style>\n",
       "<table border=\"1\" class=\"dataframe\">\n",
       "  <thead>\n",
       "    <tr style=\"text-align: right;\">\n",
       "      <th></th>\n",
       "      <th>VaR Terminology</th>\n",
       "      <th>S&amp;P BSE 500</th>\n",
       "      <th>NIFTY</th>\n",
       "      <th>Relative (Nifty/ S&amp;P)</th>\n",
       "      <th>Remarks</th>\n",
       "    </tr>\n",
       "  </thead>\n",
       "  <tbody>\n",
       "    <tr>\n",
       "      <th>0</th>\n",
       "      <td>Emperical Absolute VaR</td>\n",
       "      <td>0.0306</td>\n",
       "      <td>0.0303</td>\n",
       "      <td>0.990196</td>\n",
       "      <td>S&amp;P is riskier</td>\n",
       "    </tr>\n",
       "    <tr>\n",
       "      <th>1</th>\n",
       "      <td>Emperical Relative VaR</td>\n",
       "      <td>0.0300</td>\n",
       "      <td>0.0298</td>\n",
       "      <td>0.993333</td>\n",
       "      <td>S&amp;P is riskier</td>\n",
       "    </tr>\n",
       "    <tr>\n",
       "      <th>2</th>\n",
       "      <td>Parametric Absolute VaR</td>\n",
       "      <td>0.0260</td>\n",
       "      <td>0.0274</td>\n",
       "      <td>1.053846</td>\n",
       "      <td>NIFTY is riskier</td>\n",
       "    </tr>\n",
       "    <tr>\n",
       "      <th>3</th>\n",
       "      <td>Parametric Relative VaR</td>\n",
       "      <td>0.0269</td>\n",
       "      <td>0.0280</td>\n",
       "      <td>1.040892</td>\n",
       "      <td>NIFTY is riskier</td>\n",
       "    </tr>\n",
       "    <tr>\n",
       "      <th>4</th>\n",
       "      <td>7 day loss-absolute (Efficient markets)</td>\n",
       "      <td>0.0669</td>\n",
       "      <td>0.0700</td>\n",
       "      <td>1.046338</td>\n",
       "      <td>NIFTY is riskier</td>\n",
       "    </tr>\n",
       "    <tr>\n",
       "      <th>5</th>\n",
       "      <td>7 day loss-relative (Efficient markets)</td>\n",
       "      <td>0.0712</td>\n",
       "      <td>0.0740</td>\n",
       "      <td>1.039326</td>\n",
       "      <td>NIFTY is riskier</td>\n",
       "    </tr>\n",
       "    <tr>\n",
       "      <th>6</th>\n",
       "      <td>7 day loss-absolute (Inefficient markets)</td>\n",
       "      <td>0.0700</td>\n",
       "      <td>0.0732</td>\n",
       "      <td>1.045714</td>\n",
       "      <td>NIFTY is riskier</td>\n",
       "    </tr>\n",
       "    <tr>\n",
       "      <th>7</th>\n",
       "      <td>7 day loss-relative (Inefficient markets)</td>\n",
       "      <td>0.0743</td>\n",
       "      <td>0.0772</td>\n",
       "      <td>1.039031</td>\n",
       "      <td>NIFTY is riskier</td>\n",
       "    </tr>\n",
       "    <tr>\n",
       "      <th>8</th>\n",
       "      <td>% CVaR</td>\n",
       "      <td>3.0800</td>\n",
       "      <td>3.2000</td>\n",
       "      <td>1.038961</td>\n",
       "      <td>NIFTY is riskier</td>\n",
       "    </tr>\n",
       "    <tr>\n",
       "      <th>9</th>\n",
       "      <td>Worst loss (Absolute Loss)</td>\n",
       "      <td>0.0308</td>\n",
       "      <td>0.0320</td>\n",
       "      <td>1.038961</td>\n",
       "      <td>NIFTY is riskier</td>\n",
       "    </tr>\n",
       "    <tr>\n",
       "      <th>10</th>\n",
       "      <td>Worst loss (Relative Loss)</td>\n",
       "      <td>0.0314</td>\n",
       "      <td>0.0326</td>\n",
       "      <td>1.038217</td>\n",
       "      <td>NIFTY is riskier</td>\n",
       "    </tr>\n",
       "  </tbody>\n",
       "</table>\n",
       "</div>"
      ],
      "text/plain": [
       "                              VaR Terminology  S&P BSE 500   NIFTY  \\\n",
       "0                      Emperical Absolute VaR       0.0306  0.0303   \n",
       "1                      Emperical Relative VaR       0.0300  0.0298   \n",
       "2                     Parametric Absolute VaR       0.0260  0.0274   \n",
       "3                     Parametric Relative VaR       0.0269  0.0280   \n",
       "4     7 day loss-absolute (Efficient markets)       0.0669  0.0700   \n",
       "5     7 day loss-relative (Efficient markets)       0.0712  0.0740   \n",
       "6   7 day loss-absolute (Inefficient markets)       0.0700  0.0732   \n",
       "7   7 day loss-relative (Inefficient markets)       0.0743  0.0772   \n",
       "8                                      % CVaR       3.0800  3.2000   \n",
       "9                  Worst loss (Absolute Loss)       0.0308  0.0320   \n",
       "10                 Worst loss (Relative Loss)       0.0314  0.0326   \n",
       "\n",
       "    Relative (Nifty/ S&P)           Remarks  \n",
       "0                0.990196    S&P is riskier  \n",
       "1                0.993333    S&P is riskier  \n",
       "2                1.053846  NIFTY is riskier  \n",
       "3                1.040892  NIFTY is riskier  \n",
       "4                1.046338  NIFTY is riskier  \n",
       "5                1.039326  NIFTY is riskier  \n",
       "6                1.045714  NIFTY is riskier  \n",
       "7                1.039031  NIFTY is riskier  \n",
       "8                1.038961  NIFTY is riskier  \n",
       "9                1.038961  NIFTY is riskier  \n",
       "10               1.038217  NIFTY is riskier  "
      ]
     },
     "execution_count": 230,
     "metadata": {},
     "output_type": "execute_result"
    }
   ],
   "source": [
    "df"
   ]
  },
  {
   "cell_type": "code",
   "execution_count": 231,
   "metadata": {},
   "outputs": [],
   "source": [
    "df.to_csv (r'/Users/nesarasr/Documents/Sem6/FRM/Termproject/Results_VaREstimates.csv',index = False,  header=True)"
   ]
  },
  {
   "cell_type": "code",
   "execution_count": 232,
   "metadata": {},
   "outputs": [
    {
     "name": "stdout",
     "output_type": "stream",
     "text": [
      "----------------------------- SnP stats -----------------------------\n",
      "Sample Standard Deviation : 0.011570489305660563\n",
      "Mininum Sample Standard Deviation (from standard error): 0.011277769693714298\n",
      "Maximum Sample Standard Deviation (from standard error): 0.011863208917606827\n",
      "Sample Mean : 0.0006163328110222614\n",
      "Minimum Mean (from standard error): 0.00020236476583526366\n",
      "Maximum Mean (from standard error): 0.0010303008562092591\n",
      "Min Parametric Relative Loss the asset value will face is Rs. 0.02623601555089448\n",
      "Max Parametric Relative Loss the asset value will face is Rs. 0.027597950844776988\n",
      "Min Parametric Absolute Loss the asset value will face is Rs. 0.025205714694685223\n",
      "Max Parametric Absolute Loss the asset value will face is Rs. 0.027395586078941724\n",
      "----------------------------- Nifty stats -----------------------------\n",
      "Sample Standard Deviation : 0.012021814408682599\n",
      "Mininum Sample Standard Deviation (from standard error): 0.011717676808652322\n",
      "Maximum Sample Standard Deviation (from standard error): 0.012325952008712875\n",
      "Sample Mean : 0.0005710597598849313\n",
      "Minimum Mean (from standard error): 0.00014094424109450964\n",
      "Maximum Mean (from standard error): 0.001001175278675353\n",
      "Min Parametric Relative Loss the asset value will face is Rs. 0.027259392532505995\n",
      "Max Parametric Relative Loss the asset value will face is Rs. 0.028674452250998628\n",
      "Min Parametric Absolute Loss the asset value will face is Rs. 0.02625821725383064\n",
      "Max Parametric Absolute Loss the asset value will face is Rs. 0.02853350800990412\n"
     ]
    }
   ],
   "source": [
    "# Ranged VaR \n",
    "print(\"----------------------------- SnP stats -----------------------------\")\n",
    "range_confidence_interval = 0.95\n",
    "VaR_confidence_interval = 0.99\n",
    "# We need to calculate 2 tailed critical value for z_range\n",
    "z_range = st.norm.ppf(range_confidence_interval + (1 - range_confidence_interval)/2)\n",
    "z_VaR = st.norm.ppf(VaR_confidence_interval)\n",
    "\n",
    "print(\"Sample Standard Deviation :\", np.std(returns_snp))\n",
    "std_min = np.std(returns_snp) - z_range * np.std(returns_snp) / ((2 * len(returns_snp))**0.5)\n",
    "print(\"Mininum Sample Standard Deviation (from standard error):\", std_min)\n",
    "std_max = np.std(returns_snp) + z_range * np.std(returns_snp) / ((2 * len(returns_snp))**0.5)\n",
    "print(\"Maximum Sample Standard Deviation (from standard error):\", std_max)\n",
    "\n",
    "print(\"Sample Mean :\", np.mean(returns_snp))\n",
    "mean_min = np.mean(returns_snp) - z_range * np.std(returns_snp) / (len(returns_snp)**0.5)\n",
    "print(\"Minimum Mean (from standard error):\", mean_min)\n",
    "mean_max = np.mean(returns_snp) + z_range * np.std(returns_snp) / (len(returns_snp)**0.5)\n",
    "print(\"Maximum Mean (from standard error):\", mean_max)\n",
    "\n",
    "parametric_relative_VaR_min = current_asset_value_snp * z_VaR * std_min\n",
    "parametric_relative_VaR_max = current_asset_value_snp * z_VaR * std_max\n",
    "print(\"Min Parametric Relative Loss the asset value will face is Rs.\", parametric_relative_VaR_min)\n",
    "print(\"Max Parametric Relative Loss the asset value will face is Rs.\", parametric_relative_VaR_max)\n",
    "parametric_absolute_VaR_min = - current_asset_value_snp * (mean_max - z_VaR * std_min)\n",
    "parametric_absolute_VaR_max = - current_asset_value_snp * (mean_min - z_VaR * std_max)\n",
    "#parametric_absolute_VaR_x = - current_asset_value * (mean_min - z_VaR * std_min)\n",
    "#parametric_absolute_VaR_y = - current_asset_value * (mean_max - z_VaR * std_max)\n",
    "#print(parametric_absolute_VaR_min, parametric_absolute_VaR_max, parametric_absolute_VaR_x, parametric_absolute_VaR_y)\n",
    "print(\"Min Parametric Absolute Loss the asset value will face is Rs.\", parametric_absolute_VaR_min)\n",
    "print(\"Max Parametric Absolute Loss the asset value will face is Rs.\", parametric_absolute_VaR_max)\n",
    "\n",
    "print(\"----------------------------- Nifty stats -----------------------------\")\n",
    "range_confidence_interval = 0.95\n",
    "VaR_confidence_interval = 0.99\n",
    "# We need to calculate 2 tailed critical value for z_range\n",
    "z_range = st.norm.ppf(range_confidence_interval + (1 - range_confidence_interval)/2)\n",
    "z_VaR = st.norm.ppf(VaR_confidence_interval)\n",
    "\n",
    "print(\"Sample Standard Deviation :\", np.std(returns_nif))\n",
    "std_min = np.std(returns_nif) - z_range * np.std(returns_nif) / ((2 * len(returns_nif))**0.5)\n",
    "print(\"Mininum Sample Standard Deviation (from standard error):\", std_min)\n",
    "std_max = np.std(returns_nif) + z_range * np.std(returns_nif) / ((2 * len(returns_nif))**0.5)\n",
    "print(\"Maximum Sample Standard Deviation (from standard error):\", std_max)\n",
    "\n",
    "print(\"Sample Mean :\", np.mean(returns_nif))\n",
    "mean_min = np.mean(returns_nif) - z_range * np.std(returns_nif) / (len(returns_nif)**0.5)\n",
    "print(\"Minimum Mean (from standard error):\", mean_min)\n",
    "mean_max = np.mean(returns_nif) + z_range * np.std(returns_nif) / (len(returns_nif)**0.5)\n",
    "print(\"Maximum Mean (from standard error):\", mean_max)\n",
    "\n",
    "parametric_relative_VaR_min = current_asset_value_nif * z_VaR * std_min\n",
    "parametric_relative_VaR_max = current_asset_value_nif * z_VaR * std_max\n",
    "print(\"Min Parametric Relative Loss the asset value will face is Rs.\", parametric_relative_VaR_min)\n",
    "print(\"Max Parametric Relative Loss the asset value will face is Rs.\", parametric_relative_VaR_max)\n",
    "parametric_absolute_VaR_min = - current_asset_value_nif * (mean_max - z_VaR * std_min)\n",
    "parametric_absolute_VaR_max = - current_asset_value_nif * (mean_min - z_VaR * std_max)\n",
    "#parametric_absolute_VaR_x = - current_asset_value * (mean_min - z_VaR * std_min)\n",
    "#parametric_absolute_VaR_y = - current_asset_value * (mean_max - z_VaR * std_max)\n",
    "#print(parametric_absolute_VaR_min, parametric_absolute_VaR_max, parametric_absolute_VaR_x, parametric_absolute_VaR_y)\n",
    "print(\"Min Parametric Absolute Loss the asset value will face is Rs.\", parametric_absolute_VaR_min)\n",
    "print(\"Max Parametric Absolute Loss the asset value will face is Rs.\", parametric_absolute_VaR_max)"
   ]
  },
  {
   "cell_type": "markdown",
   "metadata": {},
   "source": [
    "### Backtesting"
   ]
  },
  {
   "cell_type": "code",
   "execution_count": 233,
   "metadata": {},
   "outputs": [
    {
     "name": "stdout",
     "output_type": "stream",
     "text": [
      "----------------------------- SnP stats -----------------------------\n",
      "(N, T) =  2 200\n",
      "(Zcalc, Ztab) =  1.0025094142341697 2.5758293035489004\n",
      "Model is GOOD as per conditional coverage test\n"
     ]
    }
   ],
   "source": [
    "# Conditional Coverage BackTesting\n",
    "snp =pd.read_excel('/Users/nesarasr/Documents/Sem6/FRM/Termproject/S&P_BSE.xlsx') \n",
    "snp = snp.Close.to_numpy()\n",
    "snp = snp[-201:]\n",
    "\n",
    "nif = pd.read_excel('/Users/nesarasr/Documents/Sem6/FRM/Termproject/NIFTY.xlsx') \n",
    "nif = nif.Close.to_numpy()\n",
    "nif = nif[-201:]\n",
    "\n",
    "print(\"----------------------------- SnP stats -----------------------------\")\n",
    "VaR = 0.026900\n",
    "loss = []\n",
    "for i in range(snp.shape[0]):\n",
    "    if i == 0:\n",
    "        loss.append(0)\n",
    "    else:\n",
    "        loss.append(min(0, units_snp*(snp[i] - snp[i - 1])))\n",
    "        \n",
    "christofferson_values = []\n",
    "for i in range(snp.shape[0]):\n",
    "    if round(abs(loss[i]),4) > VaR:\n",
    "        christofferson_values.append(1)\n",
    "    else:\n",
    "        christofferson_values.append(0)\n",
    "\n",
    "N = 0\n",
    "for i in range(1, snp.shape[0]):\n",
    "    if christofferson_values[i] == 1:\n",
    "        N += 1\n",
    "T = len(christofferson_values) - 1\n",
    "print(\"(N, T) = \", N, T)\n",
    "\n",
    "one_sided_confidence_interval = 0.99\n",
    "confidence_interval = 1 - (1 - one_sided_confidence_interval) / 2\n",
    "Zcalc = (N - T * (1 - confidence_interval)) / (T * confidence_interval * (1 - confidence_interval)) ** 0.5\n",
    "Ztab = st.norm.ppf(confidence_interval)\n",
    "print(\"(Zcalc, Ztab) = \", Zcalc, Ztab)\n",
    "\n",
    "if Zcalc < Ztab and Zcalc > -Ztab:\n",
    "    print(\"Model is GOOD as per conditional coverage test\")\n",
    "else:\n",
    "    print(\"Model is NOT GOOD as per conditional coverage test\")\n",
    "\n"
   ]
  },
  {
   "cell_type": "code",
   "execution_count": 234,
   "metadata": {},
   "outputs": [
    {
     "name": "stdout",
     "output_type": "stream",
     "text": [
      "----------------------------- Nifty stats -----------------------------\n",
      "(N, T) =  2 200\n",
      "(Zcalc, Ztab) =  1.0025094142341697 2.5758293035489004\n",
      "Model is GOOD as per conditional coverage test\n"
     ]
    }
   ],
   "source": [
    "print(\"----------------------------- Nifty stats -----------------------------\")\n",
    "VaR = 0.028000\n",
    "loss = []\n",
    "for i in range(nif.shape[0]):\n",
    "    if i == 0:\n",
    "        loss.append(0)\n",
    "    else:\n",
    "        loss.append(min(0, units_nif*(nif[i] - nif[i - 1])))\n",
    "        \n",
    "christofferson_values = []\n",
    "for i in range(nif.shape[0]):\n",
    "    if round(abs(loss[i]),4) > VaR:\n",
    "        christofferson_values.append(1)\n",
    "    else:\n",
    "        christofferson_values.append(0)\n",
    "\n",
    "N = 0\n",
    "for i in range(1, nif.shape[0]):\n",
    "    if christofferson_values[i] == 1:\n",
    "        N += 1\n",
    "T = len(christofferson_values) - 1\n",
    "print(\"(N, T) = \", N, T)\n",
    "\n",
    "one_sided_confidence_interval = 0.99\n",
    "confidence_interval = 1 - (1 - one_sided_confidence_interval) / 2\n",
    "Zcalc = (N - T * (1 - confidence_interval)) / (T * confidence_interval * (1 - confidence_interval)) ** 0.5\n",
    "Ztab = st.norm.ppf(confidence_interval)\n",
    "print(\"(Zcalc, Ztab) = \", Zcalc, Ztab)\n",
    "\n",
    "if Zcalc < Ztab and Zcalc > -Ztab:\n",
    "    print(\"Model is GOOD as per conditional coverage test\")\n",
    "else:\n",
    "    print(\"Model is NOT GOOD as per conditional coverage test\")"
   ]
  }
 ],
 "metadata": {
  "kernelspec": {
   "display_name": "Python 3",
   "language": "python",
   "name": "python3"
  },
  "language_info": {
   "codemirror_mode": {
    "name": "ipython",
    "version": 3
   },
   "file_extension": ".py",
   "mimetype": "text/x-python",
   "name": "python",
   "nbconvert_exporter": "python",
   "pygments_lexer": "ipython3",
   "version": "3.8.5"
  }
 },
 "nbformat": 4,
 "nbformat_minor": 4
}
