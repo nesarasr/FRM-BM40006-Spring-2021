{
 "cells": [
  {
   "cell_type": "markdown",
   "metadata": {},
   "source": [
    "# Portfolio VAR"
   ]
  },
  {
   "cell_type": "code",
   "execution_count": 254,
   "metadata": {},
   "outputs": [],
   "source": [
    "#Import libraries\n",
    "\n",
    "import pandas as pd\n",
    "import numpy as np\n",
    "import matplotlib.pyplot as plt\n",
    "import math\n",
    "import seaborn as sns\n",
    "sns.set()\n",
    "import warnings\n",
    "warnings.filterwarnings('ignore')\n",
    "from scipy import stats\n",
    "from scipy.stats import norm\n"
   ]
  },
  {
   "cell_type": "code",
   "execution_count": 250,
   "metadata": {},
   "outputs": [],
   "source": [
    "asset_ril = pd.read_csv('/Users/nesarasr/Documents/Sem6/FRM/Portfolio VAR/RIL.csv')\n",
    "asset_drl = pd.read_csv('/Users/nesarasr/Documents/Sem6/FRM/Portfolio VAR/DRL.csv')\n",
    "asset_itc = pd.read_csv('/Users/nesarasr/Documents/Sem6/FRM/Portfolio VAR/ITC.csv')\n",
    "asset_ntpc = pd.read_csv('/Users/nesarasr/Documents/Sem6/FRM/Portfolio VAR/NTPC.csv')\n",
    "asset_msl = pd.read_csv('/Users/nesarasr/Documents/Sem6/FRM/Portfolio VAR/MSL.csv')"
   ]
  },
  {
   "cell_type": "code",
   "execution_count": 253,
   "metadata": {},
   "outputs": [],
   "source": [
    "asset_ril = asset_ril[{'Close Price','Date'}]\n",
    "asset_drl = asset_drl[{'Close Price','Date'}]\n",
    "asset_itc = asset_itc[{'Close Price','Date'}]\n",
    "asset_ntpc = asset_ntpc[{'Close Price','Date'}]\n",
    "asset_msl = asset_msl[{'Close Price','Date'}]"
   ]
  },
  {
   "cell_type": "code",
   "execution_count": 161,
   "metadata": {},
   "outputs": [],
   "source": [
    "price_list = [asset_ril,asset_drl,asset_itc,asset_ntpc,asset_msl]"
   ]
  },
  {
   "cell_type": "code",
   "execution_count": 162,
   "metadata": {},
   "outputs": [],
   "source": [
    "stocks = ['RIL','DRL','ITC','NTPC','MSL']"
   ]
  },
  {
   "cell_type": "code",
   "execution_count": 163,
   "metadata": {},
   "outputs": [],
   "source": [
    "data = {}\n",
    "for i in range(len(stocks)):\n",
    "    data[stocks[i]] = price_list[i] "
   ]
  },
  {
   "cell_type": "code",
   "execution_count": 164,
   "metadata": {},
   "outputs": [],
   "source": [
    "returns = {}\n",
    "\n",
    "for stock in list(data.keys()):\n",
    "    r = []\n",
    "    for i in range(0,len(data[stock]['Close Price'])-1):\n",
    "        r.append(np.log(data[stock]['Close Price'][i]/data[stock]['Close Price'][i+1]))\n",
    "    returns[stock] = r    "
   ]
  },
  {
   "cell_type": "code",
   "execution_count": 165,
   "metadata": {},
   "outputs": [
    {
     "data": {
      "text/plain": [
       "{'RIL': 0.0003025056841690975,\n",
       " 'DRL': 0.00040887232614948455,\n",
       " 'ITC': 0.0001227835683981879,\n",
       " 'NTPC': -0.00028234372282608534,\n",
       " 'MSL': 0.0007205957710379744}"
      ]
     },
     "execution_count": 165,
     "metadata": {},
     "output_type": "execute_result"
    }
   ],
   "source": [
    "average_returns = {}\n",
    "\n",
    "for stock in list(returns.keys()):\n",
    "    \n",
    "    average_returns[stock] = np.mean(np.array(returns[stock]))\n",
    "average_returns    \n",
    "\n"
   ]
  },
  {
   "cell_type": "code",
   "execution_count": 166,
   "metadata": {},
   "outputs": [
    {
     "data": {
      "text/plain": [
       "{'RIL': 0.022875187375247543,\n",
       " 'DRL': 0.016935329570348538,\n",
       " 'ITC': 0.017842358738408278,\n",
       " 'NTPC': 0.016936266744191766,\n",
       " 'MSL': 0.0188494319932806}"
      ]
     },
     "execution_count": 166,
     "metadata": {},
     "output_type": "execute_result"
    }
   ],
   "source": [
    "stddev_returns = {}\n",
    "for stock in list(returns.keys()):\n",
    "    \n",
    "    stddev_returns[stock] = np.std(np.array(returns[stock]))\n",
    "stddev_returns    \n",
    "\n"
   ]
  },
  {
   "cell_type": "code",
   "execution_count": 219,
   "metadata": {},
   "outputs": [],
   "source": [
    "number_of_assets = {}\n",
    "number_of_assets['RIL'] = 500\n",
    "number_of_assets['DRL'] = 150\n",
    "number_of_assets['ITC'] = 10000\n",
    "number_of_assets['NTPC'] = 20000\n",
    "number_of_assets['MSL'] = 100\n"
   ]
  },
  {
   "cell_type": "code",
   "execution_count": 220,
   "metadata": {},
   "outputs": [
    {
     "data": {
      "text/plain": [
       "{'RIL': 947675.0,\n",
       " 'DRL': 664290.0,\n",
       " 'ITC': 2159500.0,\n",
       " 'NTPC': 1840000.0,\n",
       " 'MSL': 739995.0}"
      ]
     },
     "execution_count": 220,
     "metadata": {},
     "output_type": "execute_result"
    }
   ],
   "source": [
    "amounts_invested = {}\n",
    "\n",
    "for stock in list(data.keys()):\n",
    "    amounts_invested[stock] = number_of_assets[stock]*data[stock]['Close Price'][0]\n",
    "amounts_invested "
   ]
  },
  {
   "cell_type": "code",
   "execution_count": 221,
   "metadata": {},
   "outputs": [
    {
     "data": {
      "text/plain": [
       "6351460.0"
      ]
     },
     "execution_count": 221,
     "metadata": {},
     "output_type": "execute_result"
    }
   ],
   "source": [
    "total_portfolio_value = 0\n",
    "for stock in list(amounts_invested.keys()):\n",
    "    total_portfolio_value = total_portfolio_value + amounts_invested[stock]\n",
    "\n",
    "total_portfolio_value"
   ]
  },
  {
   "cell_type": "code",
   "execution_count": 222,
   "metadata": {},
   "outputs": [
    {
     "data": {
      "text/plain": [
       "{'RIL': 0.14920585188287416,\n",
       " 'DRL': 0.1045885512937183,\n",
       " 'ITC': 0.34000056679881474,\n",
       " 'NTPC': 0.28969717198880257,\n",
       " 'MSL': 0.1165078580357902}"
      ]
     },
     "execution_count": 222,
     "metadata": {},
     "output_type": "execute_result"
    }
   ],
   "source": [
    "weight_assets = {}\n",
    "\n",
    "for stock in list(amounts_invested.keys()):\n",
    "    \n",
    "    weight_assets[stock] = amounts_invested[stock]/total_portfolio_value\n",
    "\n",
    "weight_assets"
   ]
  },
  {
   "cell_type": "code",
   "execution_count": 223,
   "metadata": {},
   "outputs": [],
   "source": [
    "returns_stacked = np.stack((np.transpose(np.array(returns[stocks[0]])),\n",
    "                            np.transpose(np.array(returns[stocks[1]])),\n",
    "                            np.transpose(np.array(returns[stocks[2]])),\n",
    "                            np.transpose(np.array(returns[stocks[3]])),\n",
    "                            np.transpose(np.array(returns[stocks[4]]))),axis=0)"
   ]
  },
  {
   "cell_type": "code",
   "execution_count": 224,
   "metadata": {},
   "outputs": [],
   "source": [
    "var_covar_matrix = np.cov(returns_stacked)"
   ]
  },
  {
   "cell_type": "code",
   "execution_count": 225,
   "metadata": {},
   "outputs": [],
   "source": [
    "asset_values = []\n",
    "for stock in list(data.keys()):\n",
    "    asset_values.append(amounts_invested[stock])"
   ]
  },
  {
   "cell_type": "code",
   "execution_count": 226,
   "metadata": {},
   "outputs": [
    {
     "data": {
      "text/plain": [
       "[947675.0, 664290.0, 2159500.0, 1840000.0, 739995.0]"
      ]
     },
     "execution_count": 226,
     "metadata": {},
     "output_type": "execute_result"
    }
   ],
   "source": [
    "asset_values"
   ]
  },
  {
   "cell_type": "code",
   "execution_count": 227,
   "metadata": {},
   "outputs": [],
   "source": [
    "portfolio_variance = (np.array(asset_values) @ var_covar_matrix @ np.transpose(np.array(asset_values)))\n",
    "portfolio_stddev = np.sqrt(portfolio_variance)"
   ]
  },
  {
   "cell_type": "code",
   "execution_count": 228,
   "metadata": {},
   "outputs": [],
   "source": [
    "portfolio_variance_returns = portfolio_variance/(total_portfolio_value**2)\n",
    "portfolio_stddev_returns = np.sqrt(portfolio_variance_returns)"
   ]
  },
  {
   "cell_type": "code",
   "execution_count": 229,
   "metadata": {},
   "outputs": [],
   "source": [
    "# at confidence level = 99%\n",
    "Z = norm.ppf(0.99)"
   ]
  },
  {
   "cell_type": "code",
   "execution_count": 230,
   "metadata": {},
   "outputs": [
    {
     "data": {
      "text/plain": [
       "2.3263478740408408"
      ]
     },
     "execution_count": 230,
     "metadata": {},
     "output_type": "execute_result"
    }
   ],
   "source": [
    "Z"
   ]
  },
  {
   "cell_type": "markdown",
   "metadata": {},
   "source": [
    "### portfolio var : diversified"
   ]
  },
  {
   "cell_type": "code",
   "execution_count": 231,
   "metadata": {},
   "outputs": [],
   "source": [
    "pvar_diversified = Z*portfolio_stddev"
   ]
  },
  {
   "cell_type": "code",
   "execution_count": 232,
   "metadata": {},
   "outputs": [
    {
     "data": {
      "text/plain": [
       "170593.45851968418"
      ]
     },
     "execution_count": 232,
     "metadata": {},
     "output_type": "execute_result"
    }
   ],
   "source": [
    "pvar_diversified"
   ]
  },
  {
   "cell_type": "markdown",
   "metadata": {},
   "source": [
    "### portfolio var : undiversified"
   ]
  },
  {
   "cell_type": "code",
   "execution_count": 233,
   "metadata": {},
   "outputs": [],
   "source": [
    "pvar_undiversified = 0\n",
    "for stock in stocks:\n",
    "    pvar_undiversified = pvar_undiversified+np.abs(Z*amounts_invested[stock]*stddev_returns[stock])\n",
    "    "
   ]
  },
  {
   "cell_type": "code",
   "execution_count": 234,
   "metadata": {},
   "outputs": [
    {
     "data": {
      "text/plain": [
       "271182.3791419533"
      ]
     },
     "execution_count": 234,
     "metadata": {},
     "output_type": "execute_result"
    }
   ],
   "source": [
    "pvar_undiversified"
   ]
  },
  {
   "cell_type": "markdown",
   "metadata": {},
   "source": [
    "### marginal var"
   ]
  },
  {
   "cell_type": "code",
   "execution_count": 235,
   "metadata": {},
   "outputs": [],
   "source": [
    "marginal_var = Z* (var_covar_matrix @ np.transpose(np.array(asset_values)) ) / (total_portfolio_value*portfolio_stddev_returns)"
   ]
  },
  {
   "cell_type": "code",
   "execution_count": 236,
   "metadata": {},
   "outputs": [
    {
     "data": {
      "text/plain": [
       "array([0.03018459, 0.01424054, 0.03017353, 0.02693201, 0.02407288])"
      ]
     },
     "execution_count": 236,
     "metadata": {},
     "output_type": "execute_result"
    }
   ],
   "source": [
    "marginal_var"
   ]
  },
  {
   "cell_type": "markdown",
   "metadata": {},
   "source": [
    "### incremental var"
   ]
  },
  {
   "cell_type": "code",
   "execution_count": 237,
   "metadata": {},
   "outputs": [],
   "source": [
    "change_in_no_of_assets = [0,1,0,-1000,0]\n",
    "change_in_assets = []\n",
    "\n",
    "for i in range(len(stocks)):\n",
    "    change_in_assets.append(change_in_no_of_assets[i]*data[stocks[i]]['Close Price'][0])"
   ]
  },
  {
   "cell_type": "code",
   "execution_count": 238,
   "metadata": {},
   "outputs": [],
   "source": [
    "ivar = marginal_var @ np.transpose(np.array(change_in_assets))"
   ]
  },
  {
   "cell_type": "code",
   "execution_count": 239,
   "metadata": {},
   "outputs": [
    {
     "data": {
      "text/plain": [
       "-2414.678873979051"
      ]
     },
     "execution_count": 239,
     "metadata": {},
     "output_type": "execute_result"
    }
   ],
   "source": [
    "ivar"
   ]
  },
  {
   "cell_type": "code",
   "execution_count": 240,
   "metadata": {},
   "outputs": [
    {
     "data": {
      "text/plain": [
       "[0.0, 4428.6, 0.0, -92000.0, 0.0]"
      ]
     },
     "execution_count": 240,
     "metadata": {},
     "output_type": "execute_result"
    }
   ],
   "source": [
    "change_in_assets"
   ]
  },
  {
   "cell_type": "code",
   "execution_count": 241,
   "metadata": {},
   "outputs": [],
   "source": [
    "new_var = pvar + ivar"
   ]
  },
  {
   "cell_type": "code",
   "execution_count": 242,
   "metadata": {},
   "outputs": [
    {
     "data": {
      "text/plain": [
       "168178.77964570513"
      ]
     },
     "execution_count": 242,
     "metadata": {},
     "output_type": "execute_result"
    }
   ],
   "source": [
    "new_var"
   ]
  },
  {
   "cell_type": "markdown",
   "metadata": {},
   "source": [
    "### Add new asset"
   ]
  },
  {
   "cell_type": "code",
   "execution_count": 243,
   "metadata": {},
   "outputs": [],
   "source": [
    "asset_kmb = pd.read_csv('/Users/nesarasr/Documents/Sem6/FRM/Portfolio VAR/KMB.csv')"
   ]
  },
  {
   "cell_type": "code",
   "execution_count": 244,
   "metadata": {},
   "outputs": [],
   "source": [
    "asset_kmb = asset_kmb[{'Close Price','Date'}]"
   ]
  },
  {
   "cell_type": "code",
   "execution_count": 245,
   "metadata": {},
   "outputs": [],
   "source": [
    "return_new = []\n",
    "for i in range(0,len(data[stock]['Close Price'])-1):\n",
    "    return_new.append(np.log(asset_kmb['Close Price'][i]/asset_kmb['Close Price'][i+1]))\n",
    "  "
   ]
  },
  {
   "cell_type": "code",
   "execution_count": 247,
   "metadata": {},
   "outputs": [
    {
     "data": {
      "text/plain": [
       "2478"
      ]
     },
     "execution_count": 247,
     "metadata": {},
     "output_type": "execute_result"
    }
   ],
   "source": []
  },
  {
   "cell_type": "code",
   "execution_count": 458,
   "metadata": {},
   "outputs": [],
   "source": [
    "#Import libraries\n",
    "\n",
    "import pandas as pd\n",
    "import numpy as np\n",
    "import matplotlib.pyplot as plt\n",
    "import math\n",
    "import seaborn as sns\n",
    "sns.set()\n",
    "import warnings\n",
    "warnings.filterwarnings('ignore')\n",
    "from scipy import stats\n",
    "from scipy.stats import norm\n"
   ]
  },
  {
   "cell_type": "markdown",
   "metadata": {},
   "source": [
    "Money is mainly invested in index instruments, allotting 35% to broad market cap, 25% to thematic index, 20% to strategy, 10% to sector & industry, and 10% to sustainability."
   ]
  },
  {
   "cell_type": "markdown",
   "metadata": {},
   "source": [
    "## Question 3"
   ]
  },
  {
   "cell_type": "code",
   "execution_count": 459,
   "metadata": {},
   "outputs": [],
   "source": [
    "returns = pd.read_csv('/Users/nesarasr/Documents/Sem6/FRM/ClassTest2/returns.csv')"
   ]
  },
  {
   "cell_type": "code",
   "execution_count": 460,
   "metadata": {},
   "outputs": [],
   "source": [
    "returns = returns[:-1]\n",
    "returns['Sensex'] = np.float64(returns['Sensex'])"
   ]
  },
  {
   "cell_type": "code",
   "execution_count": 461,
   "metadata": {},
   "outputs": [],
   "source": [
    "portfolio = returns.columns[1:]"
   ]
  },
  {
   "cell_type": "code",
   "execution_count": 462,
   "metadata": {},
   "outputs": [
    {
     "data": {
      "text/plain": [
       "Index(['MarketCap', 'Strategy', 'Sustainability', 'Sector & Industry',\n",
       "       'Thematic', 'Nestle', 'Sensex'],\n",
       "      dtype='object')"
      ]
     },
     "execution_count": 462,
     "metadata": {},
     "output_type": "execute_result"
    }
   ],
   "source": [
    "portfolio"
   ]
  },
  {
   "cell_type": "code",
   "execution_count": 463,
   "metadata": {},
   "outputs": [],
   "source": [
    "old_portfolio = portfolio[0:5]\n",
    "new_portfolio = portfolio[0:6]\n",
    "market_returns = portfolio[6]"
   ]
  },
  {
   "cell_type": "code",
   "execution_count": 464,
   "metadata": {},
   "outputs": [],
   "source": [
    "amounts_invested_old_portfolio = [35,20,10,10,25]  ## ['MarketCap', 'Strategy', 'Sustainability', 'Sector & Industry','Thematic']\n",
    "amounts_invested_new_portfolio = [35,20,10,10,25,25] ## ['MarketCap', 'Strategy', 'Sustainability', 'Sector & Industry','Thematic','Nestle']"
   ]
  },
  {
   "cell_type": "markdown",
   "metadata": {},
   "source": [
    "_amounts invested in crores*_"
   ]
  },
  {
   "cell_type": "code",
   "execution_count": 465,
   "metadata": {},
   "outputs": [],
   "source": [
    "total_portfolio_old = sum(amounts_invested_old_portfolio)"
   ]
  },
  {
   "cell_type": "markdown",
   "metadata": {},
   "source": [
    "### Beta Model"
   ]
  },
  {
   "cell_type": "markdown",
   "metadata": {},
   "source": [
    "#### computing beta values of components of old portfolio"
   ]
  },
  {
   "cell_type": "code",
   "execution_count": 466,
   "metadata": {},
   "outputs": [],
   "source": [
    "beta = []\n",
    "for asset in (old_portfolio):\n",
    "    beta.append(returns[market_returns].cov(returns[asset])/returns[asset].var())"
   ]
  },
  {
   "cell_type": "code",
   "execution_count": 467,
   "metadata": {},
   "outputs": [
    {
     "data": {
      "text/plain": [
       "[0.9999999999999992,\n",
       " 0.773036703992015,\n",
       " 0.9943407673625877,\n",
       " 0.5485864061288108,\n",
       " 0.7122367511780304]"
      ]
     },
     "execution_count": 467,
     "metadata": {},
     "output_type": "execute_result"
    }
   ],
   "source": [
    "beta"
   ]
  },
  {
   "cell_type": "code",
   "execution_count": 468,
   "metadata": {},
   "outputs": [],
   "source": [
    "weights_old = np.array(amounts_invested_old_portfolio)/(np.sum(np.array(amounts_invested_old_portfolio)))"
   ]
  },
  {
   "cell_type": "code",
   "execution_count": 469,
   "metadata": {},
   "outputs": [],
   "source": [
    "beta_portfolio = np.array(weights_old) @ np.array(beta).transpose()"
   ]
  },
  {
   "cell_type": "code",
   "execution_count": 470,
   "metadata": {},
   "outputs": [
    {
     "data": {
      "text/plain": [
       "0.8369592459420501"
      ]
     },
     "execution_count": 470,
     "metadata": {},
     "output_type": "execute_result"
    }
   ],
   "source": [
    "beta_portfolio"
   ]
  },
  {
   "cell_type": "code",
   "execution_count": 471,
   "metadata": {},
   "outputs": [],
   "source": [
    "market_variance = returns[market_returns].var()"
   ]
  },
  {
   "cell_type": "code",
   "execution_count": 472,
   "metadata": {},
   "outputs": [],
   "source": [
    "old_portfolio_variance_beta_model = beta_portfolio*market_variance"
   ]
  },
  {
   "cell_type": "code",
   "execution_count": 473,
   "metadata": {},
   "outputs": [
    {
     "name": "stdout",
     "output_type": "stream",
     "text": [
      "Beta Model Variance of returns of OLD Portfolio: 0.00014781757482611532\n",
      "Beta Model Variance of OLD Portfolio: 1.4781757482611533  crores^2\n"
     ]
    }
   ],
   "source": [
    "print(\"Beta Model Variance of returns of OLD Portfolio:\", old_portfolio_variance_beta_model)\n",
    "print(\"Beta Model Variance of OLD Portfolio:\", old_portfolio_variance_beta_model*(total_portfolio_old**2),\" crores^2\")"
   ]
  },
  {
   "cell_type": "markdown",
   "metadata": {},
   "source": [
    "### Historical variance-covariance model"
   ]
  },
  {
   "cell_type": "code",
   "execution_count": 474,
   "metadata": {},
   "outputs": [
    {
     "data": {
      "text/plain": [
       "['MarketCap', 'Strategy', 'Sustainability', 'Sector & Industry', 'Thematic']"
      ]
     },
     "execution_count": 474,
     "metadata": {},
     "output_type": "execute_result"
    }
   ],
   "source": [
    "list(old_portfolio)"
   ]
  },
  {
   "cell_type": "code",
   "execution_count": 475,
   "metadata": {},
   "outputs": [],
   "source": [
    "returns_stacked = np.stack((np.transpose(np.array(returns[old_portfolio[0]])),\n",
    "                            np.transpose(np.array(returns[old_portfolio[1]])),\n",
    "                            np.transpose(np.array(returns[old_portfolio[2]])),\n",
    "                            np.transpose(np.array(returns[old_portfolio[3]])),\n",
    "                            np.transpose(np.array(returns[old_portfolio[4]]))),axis=0)"
   ]
  },
  {
   "cell_type": "code",
   "execution_count": 476,
   "metadata": {},
   "outputs": [],
   "source": [
    "var_covar_matrix = np.cov(returns_stacked)"
   ]
  },
  {
   "cell_type": "code",
   "execution_count": 477,
   "metadata": {},
   "outputs": [],
   "source": [
    "portfolio_variance = (np.array(amounts_invested_old_portfolio) @ var_covar_matrix @ np.transpose(np.array(amounts_invested_old_portfolio)))"
   ]
  },
  {
   "cell_type": "code",
   "execution_count": 478,
   "metadata": {},
   "outputs": [],
   "source": [
    "portfolio_variance_returns = portfolio_variance/(total_portfolio_old**2)"
   ]
  },
  {
   "cell_type": "code",
   "execution_count": 479,
   "metadata": {},
   "outputs": [
    {
     "name": "stdout",
     "output_type": "stream",
     "text": [
      "Historical Variance-Covariance Model variance  of returns of OLD Portfolio: 0.00015982166767586833\n",
      "Historical Variance-Covariance Model variance of OLD Portfolio: 1.5982166767586832  crores^2\n"
     ]
    }
   ],
   "source": [
    "print(\"Historical Variance-Covariance Model variance  of returns of OLD Portfolio:\", portfolio_variance_returns)\n",
    "print(\"Historical Variance-Covariance Model variance of OLD Portfolio:\", portfolio_variance,\" crores^2\")"
   ]
  },
  {
   "cell_type": "markdown",
   "metadata": {},
   "source": [
    "## Question 4"
   ]
  },
  {
   "cell_type": "markdown",
   "metadata": {},
   "source": [
    "### Pre-donation VaR"
   ]
  },
  {
   "cell_type": "code",
   "execution_count": 480,
   "metadata": {},
   "outputs": [
    {
     "data": {
      "text/plain": [
       "['MarketCap', 'Strategy', 'Sustainability', 'Sector & Industry', 'Thematic']"
      ]
     },
     "execution_count": 480,
     "metadata": {},
     "output_type": "execute_result"
    }
   ],
   "source": [
    "list(old_portfolio)"
   ]
  },
  {
   "cell_type": "code",
   "execution_count": 481,
   "metadata": {},
   "outputs": [],
   "source": [
    "returns_stacked = np.stack((np.transpose(np.array(returns[old_portfolio[0]])),\n",
    "                            np.transpose(np.array(returns[old_portfolio[1]])),\n",
    "                            np.transpose(np.array(returns[old_portfolio[2]])),\n",
    "                            np.transpose(np.array(returns[old_portfolio[3]])),\n",
    "                            np.transpose(np.array(returns[old_portfolio[4]]))),axis=0)"
   ]
  },
  {
   "cell_type": "code",
   "execution_count": 482,
   "metadata": {},
   "outputs": [],
   "source": [
    "var_covar_matrix = np.cov(returns_stacked)"
   ]
  },
  {
   "cell_type": "code",
   "execution_count": 483,
   "metadata": {},
   "outputs": [],
   "source": [
    "portfolio_variance = (np.array(amounts_invested_old_portfolio) @ var_covar_matrix @ np.transpose(np.array(amounts_invested_old_portfolio)))"
   ]
  },
  {
   "cell_type": "code",
   "execution_count": 484,
   "metadata": {},
   "outputs": [],
   "source": [
    "portfolio_stddev = np.sqrt(portfolio_variance)"
   ]
  },
  {
   "cell_type": "code",
   "execution_count": 485,
   "metadata": {},
   "outputs": [],
   "source": [
    "portfolio_variance_returns = portfolio_variance/(total_portfolio_old**2)"
   ]
  },
  {
   "cell_type": "code",
   "execution_count": 486,
   "metadata": {},
   "outputs": [],
   "source": [
    "# at confidence level = 99%\n",
    "Z = norm.ppf(0.99)"
   ]
  },
  {
   "cell_type": "code",
   "execution_count": 487,
   "metadata": {},
   "outputs": [],
   "source": [
    "old_portfolio_var = Z*portfolio_stddev"
   ]
  },
  {
   "cell_type": "code",
   "execution_count": 488,
   "metadata": {},
   "outputs": [
    {
     "name": "stdout",
     "output_type": "stream",
     "text": [
      "99% VAR of Pre-Donation Portfolio: 2.9409828174554997 crores\n"
     ]
    }
   ],
   "source": [
    "print(\"99% VAR of Pre-Donation Portfolio:\", old_portfolio_var,\"crores\")\n"
   ]
  },
  {
   "cell_type": "markdown",
   "metadata": {},
   "source": [
    "### Post-donation VaR"
   ]
  },
  {
   "cell_type": "code",
   "execution_count": 489,
   "metadata": {},
   "outputs": [
    {
     "data": {
      "text/plain": [
       "['MarketCap',\n",
       " 'Strategy',\n",
       " 'Sustainability',\n",
       " 'Sector & Industry',\n",
       " 'Thematic',\n",
       " 'Nestle']"
      ]
     },
     "execution_count": 489,
     "metadata": {},
     "output_type": "execute_result"
    }
   ],
   "source": [
    "list(new_portfolio)"
   ]
  },
  {
   "cell_type": "code",
   "execution_count": 490,
   "metadata": {},
   "outputs": [],
   "source": [
    "total_portfolio_new = sum(amounts_invested_new_portfolio)"
   ]
  },
  {
   "cell_type": "code",
   "execution_count": 491,
   "metadata": {},
   "outputs": [],
   "source": [
    "returns_stacked = np.stack((np.transpose(np.array(returns[new_portfolio[0]])),\n",
    "                            np.transpose(np.array(returns[new_portfolio[1]])),\n",
    "                            np.transpose(np.array(returns[new_portfolio[2]])),\n",
    "                            np.transpose(np.array(returns[new_portfolio[3]])),\n",
    "                            np.transpose(np.array(returns[new_portfolio[4]])),\n",
    "                            np.transpose(np.array(returns[new_portfolio[5]]))),axis=0)"
   ]
  },
  {
   "cell_type": "code",
   "execution_count": 492,
   "metadata": {},
   "outputs": [],
   "source": [
    "var_covar_matrix = np.cov(returns_stacked)"
   ]
  },
  {
   "cell_type": "code",
   "execution_count": 493,
   "metadata": {},
   "outputs": [],
   "source": [
    "portfolio_variance = (np.array(amounts_invested_new_portfolio) @ var_covar_matrix @ np.transpose(np.array(amounts_invested_new_portfolio)))"
   ]
  },
  {
   "cell_type": "code",
   "execution_count": 494,
   "metadata": {},
   "outputs": [],
   "source": [
    "portfolio_stddev = np.sqrt(portfolio_variance)"
   ]
  },
  {
   "cell_type": "code",
   "execution_count": 495,
   "metadata": {},
   "outputs": [],
   "source": [
    "portfolio_variance_returns = portfolio_variance/(total_portfolio_new**2)\n",
    "portfolio_stddev_returns = np.sqrt(portfolio_variance_returns)"
   ]
  },
  {
   "cell_type": "code",
   "execution_count": 496,
   "metadata": {},
   "outputs": [],
   "source": [
    "# at confidence level = 99%\n",
    "Z = norm.ppf(0.99)"
   ]
  },
  {
   "cell_type": "code",
   "execution_count": 497,
   "metadata": {},
   "outputs": [],
   "source": [
    "new_portfolio_var = Z*portfolio_stddev"
   ]
  },
  {
   "cell_type": "code",
   "execution_count": 498,
   "metadata": {},
   "outputs": [
    {
     "name": "stdout",
     "output_type": "stream",
     "text": [
      "99% VAR of Post-Donation Portfolio: 3.110867895605865 crores\n"
     ]
    }
   ],
   "source": [
    "print(\"99% VAR of Post-Donation Portfolio:\", new_portfolio_var,\"crores\")\n"
   ]
  },
  {
   "cell_type": "markdown",
   "metadata": {},
   "source": [
    "## Question 5"
   ]
  },
  {
   "cell_type": "markdown",
   "metadata": {},
   "source": [
    "### Component - VAR = A.t * Marginal VAR"
   ]
  },
  {
   "cell_type": "markdown",
   "metadata": {},
   "source": [
    "#### Marginal VAR of new portfolio"
   ]
  },
  {
   "cell_type": "code",
   "execution_count": 499,
   "metadata": {},
   "outputs": [],
   "source": [
    "# at confidence level = 99%\n",
    "Z = norm.ppf(0.99)\n",
    "\n",
    "marginal_var = Z* (var_covar_matrix @ np.transpose(np.array(amounts_invested_new_portfolio)) ) / (total_portfolio_new*portfolio_stddev_returns)"
   ]
  },
  {
   "cell_type": "code",
   "execution_count": 500,
   "metadata": {},
   "outputs": [
    {
     "data": {
      "text/plain": [
       "array([0.02787933, 0.0291532 , 0.02805801, 0.02061639, 0.03010118,\n",
       "       0.01251015])"
      ]
     },
     "execution_count": 500,
     "metadata": {},
     "output_type": "execute_result"
    }
   ],
   "source": [
    "marginal_var"
   ]
  },
  {
   "cell_type": "code",
   "execution_count": 501,
   "metadata": {},
   "outputs": [
    {
     "name": "stdout",
     "output_type": "stream",
     "text": [
      "Risk contribution of MarketCap  in the post donation portfolio is 0.9757765698469184 crores\n",
      "Risk contribution of Strategy  in the post donation portfolio is 0.5830639512023121 crores\n",
      "Risk contribution of Sustainability  in the post donation portfolio is 0.2805800884630307 crores\n",
      "Risk contribution of Sector & Industry  in the post donation portfolio is 0.20616389658255702 crores\n",
      "Risk contribution of Thematic  in the post donation portfolio is 0.7525295874324434 crores\n",
      "Risk contribution of Nestle  in the post donation portfolio is 0.3127538020786034 crores\n"
     ]
    }
   ],
   "source": [
    "risk_components = []\n",
    "for i in range(len(amounts_invested_new_portfolio)):\n",
    "    \n",
    "    print(\"Risk contribution of\",new_portfolio[i],\" in the post donation portfolio is\",marginal_var[i]*amounts_invested_new_portfolio[i],\"crores\")\n",
    "    risk_components.append(marginal_var[i]*amounts_invested_new_portfolio[i])\n",
    "    "
   ]
  },
  {
   "cell_type": "markdown",
   "metadata": {},
   "source": [
    "## Question 6"
   ]
  },
  {
   "cell_type": "markdown",
   "metadata": {},
   "source": [
    "### On selling 5% of X = Nestle \n",
    "#### change in VAR (Incremental VAR) = change_in_portfolio.T X marginal_var"
   ]
  },
  {
   "cell_type": "code",
   "execution_count": 502,
   "metadata": {},
   "outputs": [],
   "source": [
    "fraction_change_in_portfolio = [0,0,0,0,0,-0.05]"
   ]
  },
  {
   "cell_type": "code",
   "execution_count": 503,
   "metadata": {},
   "outputs": [],
   "source": [
    "change_in_portfolio = []\n",
    "for i in range(len(amounts_invested_new_portfolio)):\n",
    "    change_in_portfolio.append(fraction_change_in_portfolio[i]*amounts_invested_new_portfolio[i])"
   ]
  },
  {
   "cell_type": "code",
   "execution_count": 504,
   "metadata": {},
   "outputs": [
    {
     "data": {
      "text/plain": [
       "[0, 0, 0, 0, 0, -1.25]"
      ]
     },
     "execution_count": 504,
     "metadata": {},
     "output_type": "execute_result"
    }
   ],
   "source": [
    "change_in_portfolio"
   ]
  },
  {
   "cell_type": "code",
   "execution_count": 505,
   "metadata": {},
   "outputs": [],
   "source": [
    "ivar = np.array(change_in_portfolio) @ np.transpose(np.array(marginal_var))"
   ]
  },
  {
   "cell_type": "code",
   "execution_count": 506,
   "metadata": {},
   "outputs": [],
   "source": [
    "new_var = new_portfolio_var+ivar"
   ]
  },
  {
   "cell_type": "code",
   "execution_count": 507,
   "metadata": {},
   "outputs": [
    {
     "name": "stdout",
     "output_type": "stream",
     "text": [
      "Expected change in VaR of the portfolio from selling 5% of X : -0.015637690103930173 crores\n",
      "New VaR of the portfolio resulting from selling 5% of X : 3.0952302055019345 crores\n"
     ]
    }
   ],
   "source": [
    "print(\"Expected change in VaR of the portfolio from selling 5% of X :\", ivar,\"crores\")\n",
    "print(\"New VaR of the portfolio resulting from selling 5% of X :\", new_var,\"crores\")"
   ]
  },
  {
   "cell_type": "markdown",
   "metadata": {},
   "source": [
    "## Question 7 "
   ]
  },
  {
   "cell_type": "markdown",
   "metadata": {},
   "source": [
    "### change in portfolio position so that the post-donation portfolio VaR equals VaR of the pre-donation portfolio"
   ]
  },
  {
   "cell_type": "code",
   "execution_count": 520,
   "metadata": {},
   "outputs": [
    {
     "name": "stdout",
     "output_type": "stream",
     "text": [
      "lowest risk constituent of new portfolio : Nestle\n"
     ]
    }
   ],
   "source": [
    "print(\"lowest risk constituent of new portfolio :\",new_portfolio[np.argmin(marginal_var)])"
   ]
  },
  {
   "cell_type": "markdown",
   "metadata": {},
   "source": [
    "'X' is the lowest risk constituent. Therefore I have computed the amount of highest risk constituent asset that needs to be replaced with 'X' to bring the VAR down to that of pre-donation portfolio"
   ]
  },
  {
   "cell_type": "code",
   "execution_count": 522,
   "metadata": {},
   "outputs": [
    {
     "name": "stdout",
     "output_type": "stream",
     "text": [
      "highest risk constituent of new portfolio : Thematic\n"
     ]
    }
   ],
   "source": [
    "print(\"highest risk constituent of new portfolio :\",new_portfolio[np.argmax(marginal_var)])"
   ]
  },
  {
   "cell_type": "markdown",
   "metadata": {},
   "source": [
    "#### Explanation"
   ]
  },
  {
   "cell_type": "markdown",
   "metadata": {},
   "source": [
    "let 'p' be the total value of 'X' that needs to be replaced with lowest risk constituent."
   ]
  },
  {
   "cell_type": "markdown",
   "metadata": {},
   "source": [
    "We have p * (marginal_var(\"X\")- marginal_var(\"lowest risk constituent\")) = new_portfolio_var - old_portfolio_var "
   ]
  },
  {
   "cell_type": "markdown",
   "metadata": {},
   "source": [
    "Therefore, p = ( new_portfolio_var - old_portfolio_var ) / (marginal_var(\"X\")- marginal_var(\"lowest risk constituent\"))"
   ]
  },
  {
   "cell_type": "code",
   "execution_count": 523,
   "metadata": {},
   "outputs": [],
   "source": [
    "p = ( new_portfolio_var - old_portfolio_var ) / (marginal_var[np.argmax(marginal_var)]- marginal_var[np.argmin(risk_components)])"
   ]
  },
  {
   "cell_type": "code",
   "execution_count": 524,
   "metadata": {},
   "outputs": [
    {
     "data": {
      "text/plain": [
       "17.911309516404163"
      ]
     },
     "execution_count": 524,
     "metadata": {},
     "output_type": "execute_result"
    }
   ],
   "source": [
    "p"
   ]
  },
  {
   "cell_type": "code",
   "execution_count": 527,
   "metadata": {},
   "outputs": [
    {
     "name": "stdout",
     "output_type": "stream",
     "text": [
      "Substituting 17.911309516404163 crores of Thematic with Nestle in the portfolio will bring down the VAR to that of old(pre-donation) portfolio\n"
     ]
    }
   ],
   "source": [
    "print(\"Substituting\",p,\"crores of Thematic with Nestle in the portfolio will bring down the VAR to that of old(pre-donation) portfolio\")"
   ]
  }
 ],
 "metadata": {
  "kernelspec": {
   "display_name": "Python 3",
   "language": "python",
   "name": "python3"
  },
  "language_info": {
   "codemirror_mode": {
    "name": "ipython",
    "version": 3
   },
   "file_extension": ".py",
   "mimetype": "text/x-python",
   "name": "python",
   "nbconvert_exporter": "python",
   "pygments_lexer": "ipython3",
   "version": "3.7.6"
  }
 },
 "nbformat": 4,
 "nbformat_minor": 4
}
