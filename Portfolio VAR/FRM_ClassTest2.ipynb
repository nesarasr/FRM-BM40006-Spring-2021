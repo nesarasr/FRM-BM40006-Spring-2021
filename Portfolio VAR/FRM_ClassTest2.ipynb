{
 "cells": [
  {
   "cell_type": "code",
   "execution_count": 1,
   "metadata": {},
   "outputs": [],
   "source": [
    "#Import libraries\n",
    "\n",
    "import pandas as pd\n",
    "import numpy as np\n",
    "import matplotlib.pyplot as plt\n",
    "import math\n",
    "import seaborn as sns\n",
    "sns.set()\n",
    "import warnings\n",
    "warnings.filterwarnings('ignore')\n",
    "from scipy import stats\n",
    "from scipy.stats import norm\n"
   ]
  },
  {
   "cell_type": "markdown",
   "metadata": {},
   "source": [
    "Money is mainly invested in index instruments, allotting 35% to broad market cap, 25% to thematic index, 20% to strategy, 10% to sector & industry, and 10% to sustainability."
   ]
  },
  {
   "cell_type": "markdown",
   "metadata": {},
   "source": [
    "## Question 3"
   ]
  },
  {
   "cell_type": "code",
   "execution_count": 2,
   "metadata": {},
   "outputs": [],
   "source": [
    "returns = pd.read_csv('/Users/nesarasr/Documents/Sem6/FRM/ClassTest2/returns.csv')"
   ]
  },
  {
   "cell_type": "code",
   "execution_count": 3,
   "metadata": {},
   "outputs": [],
   "source": [
    "returns = returns[:-1]\n",
    "returns['Sensex'] = np.float64(returns['Sensex'])"
   ]
  },
  {
   "cell_type": "code",
   "execution_count": 4,
   "metadata": {},
   "outputs": [],
   "source": [
    "portfolio = returns.columns[1:]"
   ]
  },
  {
   "cell_type": "code",
   "execution_count": 5,
   "metadata": {},
   "outputs": [
    {
     "data": {
      "text/plain": [
       "Index(['MarketCap', 'Strategy', 'Sustainability', 'Sector & Industry',\n",
       "       'Thematic', 'Nestle', 'Sensex'],\n",
       "      dtype='object')"
      ]
     },
     "execution_count": 5,
     "metadata": {},
     "output_type": "execute_result"
    }
   ],
   "source": [
    "portfolio"
   ]
  },
  {
   "cell_type": "code",
   "execution_count": 6,
   "metadata": {},
   "outputs": [],
   "source": [
    "old_portfolio = portfolio[0:5]\n",
    "new_portfolio = portfolio[0:6]\n",
    "market_returns = portfolio[6]"
   ]
  },
  {
   "cell_type": "code",
   "execution_count": 7,
   "metadata": {},
   "outputs": [],
   "source": [
    "amounts_invested_old_portfolio = [35,20,10,10,25]  ## ['MarketCap', 'Strategy', 'Sustainability', 'Sector & Industry','Thematic']\n",
    "amounts_invested_new_portfolio = [35,20,10,10,25,25] ## ['MarketCap', 'Strategy', 'Sustainability', 'Sector & Industry','Thematic','Nestle']"
   ]
  },
  {
   "cell_type": "markdown",
   "metadata": {},
   "source": [
    "_amounts invested in crores*_"
   ]
  },
  {
   "cell_type": "code",
   "execution_count": 8,
   "metadata": {},
   "outputs": [],
   "source": [
    "total_portfolio_old = sum(amounts_invested_old_portfolio)"
   ]
  },
  {
   "cell_type": "markdown",
   "metadata": {},
   "source": [
    "### Beta Model"
   ]
  },
  {
   "cell_type": "markdown",
   "metadata": {},
   "source": [
    "#### computing beta values of components of old portfolio"
   ]
  },
  {
   "cell_type": "code",
   "execution_count": 9,
   "metadata": {},
   "outputs": [],
   "source": [
    "beta = []\n",
    "for asset in (old_portfolio):\n",
    "    beta.append(returns[market_returns].cov(returns[asset])/returns[asset].var())"
   ]
  },
  {
   "cell_type": "code",
   "execution_count": 10,
   "metadata": {},
   "outputs": [
    {
     "data": {
      "text/plain": [
       "[0.9999999999999992,\n",
       " 0.773036703992015,\n",
       " 0.9943407673625877,\n",
       " 0.5485864061288108,\n",
       " 0.7122367511780304]"
      ]
     },
     "execution_count": 10,
     "metadata": {},
     "output_type": "execute_result"
    }
   ],
   "source": [
    "beta"
   ]
  },
  {
   "cell_type": "code",
   "execution_count": 11,
   "metadata": {},
   "outputs": [],
   "source": [
    "weights_old = np.array(amounts_invested_old_portfolio)/(np.sum(np.array(amounts_invested_old_portfolio)))"
   ]
  },
  {
   "cell_type": "code",
   "execution_count": 12,
   "metadata": {},
   "outputs": [],
   "source": [
    "beta_portfolio = np.array(weights_old) @ np.array(beta).transpose()"
   ]
  },
  {
   "cell_type": "code",
   "execution_count": 13,
   "metadata": {},
   "outputs": [
    {
     "data": {
      "text/plain": [
       "0.8369592459420501"
      ]
     },
     "execution_count": 13,
     "metadata": {},
     "output_type": "execute_result"
    }
   ],
   "source": [
    "beta_portfolio"
   ]
  },
  {
   "cell_type": "code",
   "execution_count": 14,
   "metadata": {},
   "outputs": [],
   "source": [
    "market_variance = returns[market_returns].var()"
   ]
  },
  {
   "cell_type": "code",
   "execution_count": 15,
   "metadata": {},
   "outputs": [],
   "source": [
    "old_portfolio_variance_beta_model = beta_portfolio*market_variance"
   ]
  },
  {
   "cell_type": "code",
   "execution_count": 16,
   "metadata": {},
   "outputs": [
    {
     "name": "stdout",
     "output_type": "stream",
     "text": [
      "Beta Model Variance of returns of OLD Portfolio: 0.00014781757482611532\n",
      "Beta Model Variance of OLD Portfolio: 1.4781757482611533  crores^2\n"
     ]
    }
   ],
   "source": [
    "print(\"Beta Model Variance of returns of OLD Portfolio:\", old_portfolio_variance_beta_model)\n",
    "print(\"Beta Model Variance of OLD Portfolio:\", old_portfolio_variance_beta_model*(total_portfolio_old**2),\" crores^2\")"
   ]
  },
  {
   "cell_type": "markdown",
   "metadata": {},
   "source": [
    "### Historical variance-covariance model"
   ]
  },
  {
   "cell_type": "code",
   "execution_count": 17,
   "metadata": {},
   "outputs": [
    {
     "data": {
      "text/plain": [
       "['MarketCap', 'Strategy', 'Sustainability', 'Sector & Industry', 'Thematic']"
      ]
     },
     "execution_count": 17,
     "metadata": {},
     "output_type": "execute_result"
    }
   ],
   "source": [
    "list(old_portfolio)"
   ]
  },
  {
   "cell_type": "code",
   "execution_count": 18,
   "metadata": {},
   "outputs": [],
   "source": [
    "returns_stacked = np.stack((np.transpose(np.array(returns[old_portfolio[0]])),\n",
    "                            np.transpose(np.array(returns[old_portfolio[1]])),\n",
    "                            np.transpose(np.array(returns[old_portfolio[2]])),\n",
    "                            np.transpose(np.array(returns[old_portfolio[3]])),\n",
    "                            np.transpose(np.array(returns[old_portfolio[4]]))),axis=0)"
   ]
  },
  {
   "cell_type": "code",
   "execution_count": 19,
   "metadata": {},
   "outputs": [],
   "source": [
    "var_covar_matrix = np.cov(returns_stacked)"
   ]
  },
  {
   "cell_type": "code",
   "execution_count": 20,
   "metadata": {},
   "outputs": [],
   "source": [
    "portfolio_variance = (np.array(amounts_invested_old_portfolio) @ var_covar_matrix @ np.transpose(np.array(amounts_invested_old_portfolio)))"
   ]
  },
  {
   "cell_type": "code",
   "execution_count": 21,
   "metadata": {},
   "outputs": [],
   "source": [
    "portfolio_variance_returns = portfolio_variance/(total_portfolio_old**2)"
   ]
  },
  {
   "cell_type": "code",
   "execution_count": 22,
   "metadata": {},
   "outputs": [
    {
     "name": "stdout",
     "output_type": "stream",
     "text": [
      "Historical Variance-Covariance Model variance  of returns of OLD Portfolio: 0.00015982166767586833\n",
      "Historical Variance-Covariance Model variance of OLD Portfolio: 1.5982166767586832  crores^2\n"
     ]
    }
   ],
   "source": [
    "print(\"Historical Variance-Covariance Model variance  of returns of OLD Portfolio:\", portfolio_variance_returns)\n",
    "print(\"Historical Variance-Covariance Model variance of OLD Portfolio:\", portfolio_variance,\" crores^2\")"
   ]
  },
  {
   "cell_type": "markdown",
   "metadata": {},
   "source": [
    "## Question 4"
   ]
  },
  {
   "cell_type": "markdown",
   "metadata": {},
   "source": [
    "### Pre-donation VaR"
   ]
  },
  {
   "cell_type": "code",
   "execution_count": 23,
   "metadata": {},
   "outputs": [
    {
     "data": {
      "text/plain": [
       "['MarketCap', 'Strategy', 'Sustainability', 'Sector & Industry', 'Thematic']"
      ]
     },
     "execution_count": 23,
     "metadata": {},
     "output_type": "execute_result"
    }
   ],
   "source": [
    "list(old_portfolio)"
   ]
  },
  {
   "cell_type": "code",
   "execution_count": 24,
   "metadata": {},
   "outputs": [],
   "source": [
    "returns_stacked = np.stack((np.transpose(np.array(returns[old_portfolio[0]])),\n",
    "                            np.transpose(np.array(returns[old_portfolio[1]])),\n",
    "                            np.transpose(np.array(returns[old_portfolio[2]])),\n",
    "                            np.transpose(np.array(returns[old_portfolio[3]])),\n",
    "                            np.transpose(np.array(returns[old_portfolio[4]]))),axis=0)"
   ]
  },
  {
   "cell_type": "code",
   "execution_count": 25,
   "metadata": {},
   "outputs": [],
   "source": [
    "var_covar_matrix = np.cov(returns_stacked)"
   ]
  },
  {
   "cell_type": "code",
   "execution_count": 26,
   "metadata": {},
   "outputs": [],
   "source": [
    "portfolio_variance = (np.array(amounts_invested_old_portfolio) @ var_covar_matrix @ np.transpose(np.array(amounts_invested_old_portfolio)))"
   ]
  },
  {
   "cell_type": "code",
   "execution_count": 27,
   "metadata": {},
   "outputs": [],
   "source": [
    "portfolio_stddev = np.sqrt(portfolio_variance)"
   ]
  },
  {
   "cell_type": "code",
   "execution_count": 28,
   "metadata": {},
   "outputs": [],
   "source": [
    "portfolio_variance_returns = portfolio_variance/(total_portfolio_old**2)"
   ]
  },
  {
   "cell_type": "code",
   "execution_count": 29,
   "metadata": {},
   "outputs": [],
   "source": [
    "# at confidence level = 99%\n",
    "Z = norm.ppf(0.99)"
   ]
  },
  {
   "cell_type": "code",
   "execution_count": 30,
   "metadata": {},
   "outputs": [],
   "source": [
    "old_portfolio_var = Z*portfolio_stddev"
   ]
  },
  {
   "cell_type": "code",
   "execution_count": 31,
   "metadata": {},
   "outputs": [
    {
     "name": "stdout",
     "output_type": "stream",
     "text": [
      "99% VAR of Pre-Donation Portfolio: 2.9409828174554997 crores\n"
     ]
    }
   ],
   "source": [
    "print(\"99% VAR of Pre-Donation Portfolio:\", old_portfolio_var,\"crores\")\n"
   ]
  },
  {
   "cell_type": "markdown",
   "metadata": {},
   "source": [
    "### Post-donation VaR"
   ]
  },
  {
   "cell_type": "code",
   "execution_count": 32,
   "metadata": {},
   "outputs": [
    {
     "data": {
      "text/plain": [
       "['MarketCap',\n",
       " 'Strategy',\n",
       " 'Sustainability',\n",
       " 'Sector & Industry',\n",
       " 'Thematic',\n",
       " 'Nestle']"
      ]
     },
     "execution_count": 32,
     "metadata": {},
     "output_type": "execute_result"
    }
   ],
   "source": [
    "list(new_portfolio)"
   ]
  },
  {
   "cell_type": "code",
   "execution_count": 33,
   "metadata": {},
   "outputs": [],
   "source": [
    "total_portfolio_new = sum(amounts_invested_new_portfolio)"
   ]
  },
  {
   "cell_type": "code",
   "execution_count": 34,
   "metadata": {},
   "outputs": [],
   "source": [
    "returns_stacked = np.stack((np.transpose(np.array(returns[new_portfolio[0]])),\n",
    "                            np.transpose(np.array(returns[new_portfolio[1]])),\n",
    "                            np.transpose(np.array(returns[new_portfolio[2]])),\n",
    "                            np.transpose(np.array(returns[new_portfolio[3]])),\n",
    "                            np.transpose(np.array(returns[new_portfolio[4]])),\n",
    "                            np.transpose(np.array(returns[new_portfolio[5]]))),axis=0)"
   ]
  },
  {
   "cell_type": "code",
   "execution_count": 35,
   "metadata": {},
   "outputs": [],
   "source": [
    "var_covar_matrix = np.cov(returns_stacked)"
   ]
  },
  {
   "cell_type": "code",
   "execution_count": 36,
   "metadata": {},
   "outputs": [],
   "source": [
    "portfolio_variance = (np.array(amounts_invested_new_portfolio) @ var_covar_matrix @ np.transpose(np.array(amounts_invested_new_portfolio)))"
   ]
  },
  {
   "cell_type": "code",
   "execution_count": 37,
   "metadata": {},
   "outputs": [],
   "source": [
    "portfolio_stddev = np.sqrt(portfolio_variance)"
   ]
  },
  {
   "cell_type": "code",
   "execution_count": 38,
   "metadata": {},
   "outputs": [],
   "source": [
    "portfolio_variance_returns = portfolio_variance/(total_portfolio_new**2)\n",
    "portfolio_stddev_returns = np.sqrt(portfolio_variance_returns)"
   ]
  },
  {
   "cell_type": "code",
   "execution_count": 39,
   "metadata": {},
   "outputs": [],
   "source": [
    "# at confidence level = 99%\n",
    "Z = norm.ppf(0.99)"
   ]
  },
  {
   "cell_type": "code",
   "execution_count": 40,
   "metadata": {},
   "outputs": [],
   "source": [
    "new_portfolio_var = Z*portfolio_stddev"
   ]
  },
  {
   "cell_type": "code",
   "execution_count": 41,
   "metadata": {},
   "outputs": [
    {
     "name": "stdout",
     "output_type": "stream",
     "text": [
      "99% VAR of Post-Donation Portfolio: 3.110867895605865 crores\n"
     ]
    }
   ],
   "source": [
    "print(\"99% VAR of Post-Donation Portfolio:\", new_portfolio_var,\"crores\")\n"
   ]
  },
  {
   "cell_type": "markdown",
   "metadata": {},
   "source": [
    "## Question 5"
   ]
  },
  {
   "cell_type": "markdown",
   "metadata": {},
   "source": [
    "### Component - VAR = A.t * Marginal VAR"
   ]
  },
  {
   "cell_type": "markdown",
   "metadata": {},
   "source": [
    "#### Marginal VAR of new portfolio"
   ]
  },
  {
   "cell_type": "code",
   "execution_count": 42,
   "metadata": {},
   "outputs": [],
   "source": [
    "# at confidence level = 99%\n",
    "Z = norm.ppf(0.99)\n",
    "\n",
    "marginal_var = Z* (var_covar_matrix @ np.transpose(np.array(amounts_invested_new_portfolio)) ) / (total_portfolio_new*portfolio_stddev_returns)"
   ]
  },
  {
   "cell_type": "code",
   "execution_count": 43,
   "metadata": {},
   "outputs": [
    {
     "data": {
      "text/plain": [
       "array([0.02787933, 0.0291532 , 0.02805801, 0.02061639, 0.03010118,\n",
       "       0.01251015])"
      ]
     },
     "execution_count": 43,
     "metadata": {},
     "output_type": "execute_result"
    }
   ],
   "source": [
    "marginal_var"
   ]
  },
  {
   "cell_type": "code",
   "execution_count": 44,
   "metadata": {},
   "outputs": [
    {
     "name": "stdout",
     "output_type": "stream",
     "text": [
      "Risk contribution of MarketCap  in the post donation portfolio is 0.9757765698469184 crores\n",
      "Risk contribution of Strategy  in the post donation portfolio is 0.5830639512023121 crores\n",
      "Risk contribution of Sustainability  in the post donation portfolio is 0.2805800884630307 crores\n",
      "Risk contribution of Sector & Industry  in the post donation portfolio is 0.20616389658255702 crores\n",
      "Risk contribution of Thematic  in the post donation portfolio is 0.7525295874324434 crores\n",
      "Risk contribution of Nestle  in the post donation portfolio is 0.3127538020786034 crores\n"
     ]
    }
   ],
   "source": [
    "risk_components = []\n",
    "for i in range(len(amounts_invested_new_portfolio)):\n",
    "    \n",
    "    print(\"Risk contribution of\",new_portfolio[i],\" in the post donation portfolio is\",marginal_var[i]*amounts_invested_new_portfolio[i],\"crores\")\n",
    "    risk_components.append(marginal_var[i]*amounts_invested_new_portfolio[i])\n",
    "    "
   ]
  },
  {
   "cell_type": "markdown",
   "metadata": {},
   "source": [
    "## Question 6"
   ]
  },
  {
   "cell_type": "markdown",
   "metadata": {},
   "source": [
    "### On selling 5% of X = Nestle \n",
    "#### change in VAR (Incremental VAR) = change_in_portfolio.T X marginal_var"
   ]
  },
  {
   "cell_type": "code",
   "execution_count": 45,
   "metadata": {},
   "outputs": [],
   "source": [
    "fraction_change_in_portfolio = [0,0,0,0,0,-0.05]"
   ]
  },
  {
   "cell_type": "code",
   "execution_count": 46,
   "metadata": {},
   "outputs": [],
   "source": [
    "change_in_portfolio = []\n",
    "for i in range(len(amounts_invested_new_portfolio)):\n",
    "    change_in_portfolio.append(fraction_change_in_portfolio[i]*amounts_invested_new_portfolio[i])"
   ]
  },
  {
   "cell_type": "code",
   "execution_count": 47,
   "metadata": {},
   "outputs": [
    {
     "data": {
      "text/plain": [
       "[0, 0, 0, 0, 0, -1.25]"
      ]
     },
     "execution_count": 47,
     "metadata": {},
     "output_type": "execute_result"
    }
   ],
   "source": [
    "change_in_portfolio"
   ]
  },
  {
   "cell_type": "code",
   "execution_count": 48,
   "metadata": {},
   "outputs": [],
   "source": [
    "ivar = np.array(change_in_portfolio) @ np.transpose(np.array(marginal_var))"
   ]
  },
  {
   "cell_type": "code",
   "execution_count": 49,
   "metadata": {},
   "outputs": [],
   "source": [
    "new_var = new_portfolio_var+ivar"
   ]
  },
  {
   "cell_type": "code",
   "execution_count": 50,
   "metadata": {},
   "outputs": [
    {
     "name": "stdout",
     "output_type": "stream",
     "text": [
      "Expected change in VaR of the portfolio from selling 5% of X : -0.015637690103930173 crores\n",
      "New VaR of the portfolio resulting from selling 5% of X : 3.0952302055019345 crores\n"
     ]
    }
   ],
   "source": [
    "print(\"Expected change in VaR of the portfolio from selling 5% of X :\", ivar,\"crores\")\n",
    "print(\"New VaR of the portfolio resulting from selling 5% of X :\", new_var,\"crores\")"
   ]
  },
  {
   "cell_type": "markdown",
   "metadata": {},
   "source": [
    "## Question 7 "
   ]
  },
  {
   "cell_type": "markdown",
   "metadata": {},
   "source": [
    "### change in portfolio position so that the post-donation portfolio VaR equals VaR of the pre-donation portfolio"
   ]
  },
  {
   "cell_type": "code",
   "execution_count": 51,
   "metadata": {},
   "outputs": [
    {
     "name": "stdout",
     "output_type": "stream",
     "text": [
      "lowest risk constituent of new portfolio : Nestle\n"
     ]
    }
   ],
   "source": [
    "print(\"lowest risk constituent of new portfolio :\",new_portfolio[np.argmin(marginal_var)])"
   ]
  },
  {
   "cell_type": "markdown",
   "metadata": {},
   "source": [
    "'X' is the lowest risk constituent. Therefore I have computed the amount of highest risk constituent asset that needs to be replaced with 'X' to bring the VAR down to that of pre-donation portfolio"
   ]
  },
  {
   "cell_type": "code",
   "execution_count": 52,
   "metadata": {},
   "outputs": [
    {
     "name": "stdout",
     "output_type": "stream",
     "text": [
      "highest risk constituent of new portfolio : Thematic\n"
     ]
    }
   ],
   "source": [
    "print(\"highest risk constituent of new portfolio :\",new_portfolio[np.argmax(marginal_var)])"
   ]
  },
  {
   "cell_type": "markdown",
   "metadata": {},
   "source": [
    "#### Explanation"
   ]
  },
  {
   "cell_type": "markdown",
   "metadata": {},
   "source": [
    "let 'p' be the total value of 'X' that needs to be replaced with lowest risk constituent."
   ]
  },
  {
   "cell_type": "markdown",
   "metadata": {},
   "source": [
    "We have p * (marginal_var(\"X\")- marginal_var(\"lowest risk constituent\")) = new_portfolio_var - old_portfolio_var "
   ]
  },
  {
   "cell_type": "markdown",
   "metadata": {},
   "source": [
    "Therefore, p = ( new_portfolio_var - old_portfolio_var ) / (marginal_var(\"X\")- marginal_var(\"lowest risk constituent\"))"
   ]
  },
  {
   "cell_type": "code",
   "execution_count": 53,
   "metadata": {},
   "outputs": [],
   "source": [
    "p = ( new_portfolio_var - old_portfolio_var ) / (marginal_var[np.argmax(marginal_var)]- marginal_var[np.argmin(risk_components)])"
   ]
  },
  {
   "cell_type": "code",
   "execution_count": 54,
   "metadata": {},
   "outputs": [
    {
     "data": {
      "text/plain": [
       "17.911309516404163"
      ]
     },
     "execution_count": 54,
     "metadata": {},
     "output_type": "execute_result"
    }
   ],
   "source": [
    "p"
   ]
  },
  {
   "cell_type": "code",
   "execution_count": 55,
   "metadata": {},
   "outputs": [
    {
     "name": "stdout",
     "output_type": "stream",
     "text": [
      "Substituting 17.911309516404163 crores of Thematic with Nestle in the portfolio will bring down the VAR to that of old(pre-donation) portfolio\n"
     ]
    }
   ],
   "source": [
    "print(\"Substituting\",p,\"crores of Thematic with Nestle in the portfolio will bring down the VAR to that of old(pre-donation) portfolio\")"
   ]
  }
 ],
 "metadata": {
  "kernelspec": {
   "display_name": "Python 3",
   "language": "python",
   "name": "python3"
  },
  "language_info": {
   "codemirror_mode": {
    "name": "ipython",
    "version": 3
   },
   "file_extension": ".py",
   "mimetype": "text/x-python",
   "name": "python",
   "nbconvert_exporter": "python",
   "pygments_lexer": "ipython3",
   "version": "3.7.6"
  }
 },
 "nbformat": 4,
 "nbformat_minor": 4
}
